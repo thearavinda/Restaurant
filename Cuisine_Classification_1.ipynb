{
 "cells": [
  {
   "cell_type": "markdown",
   "id": "ab12569f-5a0e-43ea-9124-996c99e628f8",
   "metadata": {},
   "source": [
    "# Import necessary Libraries."
   ]
  },
  {
   "cell_type": "code",
   "execution_count": 2,
   "id": "6059e545-c503-4694-a685-07d0b33cca53",
   "metadata": {},
   "outputs": [],
   "source": [
    "import numpy as np\n",
    "import pandas as pd\n",
    "import seaborn as sns\n",
    "import matplotlib.pyplot as plt\n",
    "from sklearn.preprocessing import LabelEncoder, MinMaxScaler, OneHotEncoder\n",
    "from sklearn.feature_selection import SelectKBest, chi2\n",
    "from sklearn.model_selection import train_test_split\n",
    "from imblearn.over_sampling import SMOTE\n",
    "from sklearn.linear_model import LogisticRegression\n",
    "from sklearn.metrics import accuracy_score, confusion_matrix, classification_report\n",
    "from sklearn.ensemble import GradientBoostingClassifier, RandomForestClassifier\n",
    "from sklearn.tree import DecisionTreeClassifier\n"
   ]
  },
  {
   "cell_type": "markdown",
   "id": "b310af56-22e3-4a1f-a103-657a5659394e",
   "metadata": {},
   "source": [
    "## Load the dataset."
   ]
  },
  {
   "cell_type": "code",
   "execution_count": 4,
   "id": "28535052-61d3-4205-acfd-9f3986f15bcc",
   "metadata": {},
   "outputs": [
    {
     "data": {
      "text/html": [
       "<div>\n",
       "<style scoped>\n",
       "    .dataframe tbody tr th:only-of-type {\n",
       "        vertical-align: middle;\n",
       "    }\n",
       "\n",
       "    .dataframe tbody tr th {\n",
       "        vertical-align: top;\n",
       "    }\n",
       "\n",
       "    .dataframe thead th {\n",
       "        text-align: right;\n",
       "    }\n",
       "</style>\n",
       "<table border=\"1\" class=\"dataframe\">\n",
       "  <thead>\n",
       "    <tr style=\"text-align: right;\">\n",
       "      <th></th>\n",
       "      <th>Restaurant ID</th>\n",
       "      <th>Restaurant Name</th>\n",
       "      <th>Country Code</th>\n",
       "      <th>City</th>\n",
       "      <th>Address</th>\n",
       "      <th>Locality</th>\n",
       "      <th>Locality Verbose</th>\n",
       "      <th>Longitude</th>\n",
       "      <th>Latitude</th>\n",
       "      <th>Cuisines</th>\n",
       "      <th>...</th>\n",
       "      <th>Currency</th>\n",
       "      <th>Has Table booking</th>\n",
       "      <th>Has Online delivery</th>\n",
       "      <th>Is delivering now</th>\n",
       "      <th>Switch to order menu</th>\n",
       "      <th>Price range</th>\n",
       "      <th>Aggregate rating</th>\n",
       "      <th>Rating color</th>\n",
       "      <th>Rating text</th>\n",
       "      <th>Votes</th>\n",
       "    </tr>\n",
       "  </thead>\n",
       "  <tbody>\n",
       "    <tr>\n",
       "      <th>0</th>\n",
       "      <td>6317637</td>\n",
       "      <td>Le Petit Souffle</td>\n",
       "      <td>162</td>\n",
       "      <td>Makati City</td>\n",
       "      <td>Third Floor, Century City Mall, Kalayaan Avenu...</td>\n",
       "      <td>Century City Mall, Poblacion, Makati City</td>\n",
       "      <td>Century City Mall, Poblacion, Makati City, Mak...</td>\n",
       "      <td>121.027535</td>\n",
       "      <td>14.565443</td>\n",
       "      <td>French, Japanese, Desserts</td>\n",
       "      <td>...</td>\n",
       "      <td>Botswana Pula(P)</td>\n",
       "      <td>Yes</td>\n",
       "      <td>No</td>\n",
       "      <td>No</td>\n",
       "      <td>No</td>\n",
       "      <td>3</td>\n",
       "      <td>4.8</td>\n",
       "      <td>Dark Green</td>\n",
       "      <td>Excellent</td>\n",
       "      <td>314</td>\n",
       "    </tr>\n",
       "    <tr>\n",
       "      <th>1</th>\n",
       "      <td>6304287</td>\n",
       "      <td>Izakaya Kikufuji</td>\n",
       "      <td>162</td>\n",
       "      <td>Makati City</td>\n",
       "      <td>Little Tokyo, 2277 Chino Roces Avenue, Legaspi...</td>\n",
       "      <td>Little Tokyo, Legaspi Village, Makati City</td>\n",
       "      <td>Little Tokyo, Legaspi Village, Makati City, Ma...</td>\n",
       "      <td>121.014101</td>\n",
       "      <td>14.553708</td>\n",
       "      <td>Japanese</td>\n",
       "      <td>...</td>\n",
       "      <td>Botswana Pula(P)</td>\n",
       "      <td>Yes</td>\n",
       "      <td>No</td>\n",
       "      <td>No</td>\n",
       "      <td>No</td>\n",
       "      <td>3</td>\n",
       "      <td>4.5</td>\n",
       "      <td>Dark Green</td>\n",
       "      <td>Excellent</td>\n",
       "      <td>591</td>\n",
       "    </tr>\n",
       "    <tr>\n",
       "      <th>2</th>\n",
       "      <td>6300002</td>\n",
       "      <td>Heat - Edsa Shangri-La</td>\n",
       "      <td>162</td>\n",
       "      <td>Mandaluyong City</td>\n",
       "      <td>Edsa Shangri-La, 1 Garden Way, Ortigas, Mandal...</td>\n",
       "      <td>Edsa Shangri-La, Ortigas, Mandaluyong City</td>\n",
       "      <td>Edsa Shangri-La, Ortigas, Mandaluyong City, Ma...</td>\n",
       "      <td>121.056831</td>\n",
       "      <td>14.581404</td>\n",
       "      <td>Seafood, Asian, Filipino, Indian</td>\n",
       "      <td>...</td>\n",
       "      <td>Botswana Pula(P)</td>\n",
       "      <td>Yes</td>\n",
       "      <td>No</td>\n",
       "      <td>No</td>\n",
       "      <td>No</td>\n",
       "      <td>4</td>\n",
       "      <td>4.4</td>\n",
       "      <td>Green</td>\n",
       "      <td>Very Good</td>\n",
       "      <td>270</td>\n",
       "    </tr>\n",
       "    <tr>\n",
       "      <th>3</th>\n",
       "      <td>6318506</td>\n",
       "      <td>Ooma</td>\n",
       "      <td>162</td>\n",
       "      <td>Mandaluyong City</td>\n",
       "      <td>Third Floor, Mega Fashion Hall, SM Megamall, O...</td>\n",
       "      <td>SM Megamall, Ortigas, Mandaluyong City</td>\n",
       "      <td>SM Megamall, Ortigas, Mandaluyong City, Mandal...</td>\n",
       "      <td>121.056475</td>\n",
       "      <td>14.585318</td>\n",
       "      <td>Japanese, Sushi</td>\n",
       "      <td>...</td>\n",
       "      <td>Botswana Pula(P)</td>\n",
       "      <td>No</td>\n",
       "      <td>No</td>\n",
       "      <td>No</td>\n",
       "      <td>No</td>\n",
       "      <td>4</td>\n",
       "      <td>4.9</td>\n",
       "      <td>Dark Green</td>\n",
       "      <td>Excellent</td>\n",
       "      <td>365</td>\n",
       "    </tr>\n",
       "    <tr>\n",
       "      <th>4</th>\n",
       "      <td>6314302</td>\n",
       "      <td>Sambo Kojin</td>\n",
       "      <td>162</td>\n",
       "      <td>Mandaluyong City</td>\n",
       "      <td>Third Floor, Mega Atrium, SM Megamall, Ortigas...</td>\n",
       "      <td>SM Megamall, Ortigas, Mandaluyong City</td>\n",
       "      <td>SM Megamall, Ortigas, Mandaluyong City, Mandal...</td>\n",
       "      <td>121.057508</td>\n",
       "      <td>14.584450</td>\n",
       "      <td>Japanese, Korean</td>\n",
       "      <td>...</td>\n",
       "      <td>Botswana Pula(P)</td>\n",
       "      <td>Yes</td>\n",
       "      <td>No</td>\n",
       "      <td>No</td>\n",
       "      <td>No</td>\n",
       "      <td>4</td>\n",
       "      <td>4.8</td>\n",
       "      <td>Dark Green</td>\n",
       "      <td>Excellent</td>\n",
       "      <td>229</td>\n",
       "    </tr>\n",
       "    <tr>\n",
       "      <th>...</th>\n",
       "      <td>...</td>\n",
       "      <td>...</td>\n",
       "      <td>...</td>\n",
       "      <td>...</td>\n",
       "      <td>...</td>\n",
       "      <td>...</td>\n",
       "      <td>...</td>\n",
       "      <td>...</td>\n",
       "      <td>...</td>\n",
       "      <td>...</td>\n",
       "      <td>...</td>\n",
       "      <td>...</td>\n",
       "      <td>...</td>\n",
       "      <td>...</td>\n",
       "      <td>...</td>\n",
       "      <td>...</td>\n",
       "      <td>...</td>\n",
       "      <td>...</td>\n",
       "      <td>...</td>\n",
       "      <td>...</td>\n",
       "      <td>...</td>\n",
       "    </tr>\n",
       "    <tr>\n",
       "      <th>9546</th>\n",
       "      <td>5915730</td>\n",
       "      <td>Naml۱ Gurme</td>\n",
       "      <td>208</td>\n",
       "      <td>��stanbul</td>\n",
       "      <td>Kemanke�� Karamustafa Pa��a Mahallesi, R۱ht۱m ...</td>\n",
       "      <td>Karak�_y</td>\n",
       "      <td>Karak�_y, ��stanbul</td>\n",
       "      <td>28.977392</td>\n",
       "      <td>41.022793</td>\n",
       "      <td>Turkish</td>\n",
       "      <td>...</td>\n",
       "      <td>Turkish Lira(TL)</td>\n",
       "      <td>No</td>\n",
       "      <td>No</td>\n",
       "      <td>No</td>\n",
       "      <td>No</td>\n",
       "      <td>3</td>\n",
       "      <td>4.1</td>\n",
       "      <td>Green</td>\n",
       "      <td>Very Good</td>\n",
       "      <td>788</td>\n",
       "    </tr>\n",
       "    <tr>\n",
       "      <th>9547</th>\n",
       "      <td>5908749</td>\n",
       "      <td>Ceviz A��ac۱</td>\n",
       "      <td>208</td>\n",
       "      <td>��stanbul</td>\n",
       "      <td>Ko��uyolu Mahallesi, Muhittin ��st�_nda�� Cadd...</td>\n",
       "      <td>Ko��uyolu</td>\n",
       "      <td>Ko��uyolu, ��stanbul</td>\n",
       "      <td>29.041297</td>\n",
       "      <td>41.009847</td>\n",
       "      <td>World Cuisine, Patisserie, Cafe</td>\n",
       "      <td>...</td>\n",
       "      <td>Turkish Lira(TL)</td>\n",
       "      <td>No</td>\n",
       "      <td>No</td>\n",
       "      <td>No</td>\n",
       "      <td>No</td>\n",
       "      <td>3</td>\n",
       "      <td>4.2</td>\n",
       "      <td>Green</td>\n",
       "      <td>Very Good</td>\n",
       "      <td>1034</td>\n",
       "    </tr>\n",
       "    <tr>\n",
       "      <th>9548</th>\n",
       "      <td>5915807</td>\n",
       "      <td>Huqqa</td>\n",
       "      <td>208</td>\n",
       "      <td>��stanbul</td>\n",
       "      <td>Kuru�_e��me Mahallesi, Muallim Naci Caddesi, N...</td>\n",
       "      <td>Kuru�_e��me</td>\n",
       "      <td>Kuru�_e��me, ��stanbul</td>\n",
       "      <td>29.034640</td>\n",
       "      <td>41.055817</td>\n",
       "      <td>Italian, World Cuisine</td>\n",
       "      <td>...</td>\n",
       "      <td>Turkish Lira(TL)</td>\n",
       "      <td>No</td>\n",
       "      <td>No</td>\n",
       "      <td>No</td>\n",
       "      <td>No</td>\n",
       "      <td>4</td>\n",
       "      <td>3.7</td>\n",
       "      <td>Yellow</td>\n",
       "      <td>Good</td>\n",
       "      <td>661</td>\n",
       "    </tr>\n",
       "    <tr>\n",
       "      <th>9549</th>\n",
       "      <td>5916112</td>\n",
       "      <td>A���k Kahve</td>\n",
       "      <td>208</td>\n",
       "      <td>��stanbul</td>\n",
       "      <td>Kuru�_e��me Mahallesi, Muallim Naci Caddesi, N...</td>\n",
       "      <td>Kuru�_e��me</td>\n",
       "      <td>Kuru�_e��me, ��stanbul</td>\n",
       "      <td>29.036019</td>\n",
       "      <td>41.057979</td>\n",
       "      <td>Restaurant Cafe</td>\n",
       "      <td>...</td>\n",
       "      <td>Turkish Lira(TL)</td>\n",
       "      <td>No</td>\n",
       "      <td>No</td>\n",
       "      <td>No</td>\n",
       "      <td>No</td>\n",
       "      <td>4</td>\n",
       "      <td>4.0</td>\n",
       "      <td>Green</td>\n",
       "      <td>Very Good</td>\n",
       "      <td>901</td>\n",
       "    </tr>\n",
       "    <tr>\n",
       "      <th>9550</th>\n",
       "      <td>5927402</td>\n",
       "      <td>Walter's Coffee Roastery</td>\n",
       "      <td>208</td>\n",
       "      <td>��stanbul</td>\n",
       "      <td>Cafea��a Mahallesi, Bademalt۱ Sokak, No 21/B, ...</td>\n",
       "      <td>Moda</td>\n",
       "      <td>Moda, ��stanbul</td>\n",
       "      <td>29.026016</td>\n",
       "      <td>40.984776</td>\n",
       "      <td>Cafe</td>\n",
       "      <td>...</td>\n",
       "      <td>Turkish Lira(TL)</td>\n",
       "      <td>No</td>\n",
       "      <td>No</td>\n",
       "      <td>No</td>\n",
       "      <td>No</td>\n",
       "      <td>2</td>\n",
       "      <td>4.0</td>\n",
       "      <td>Green</td>\n",
       "      <td>Very Good</td>\n",
       "      <td>591</td>\n",
       "    </tr>\n",
       "  </tbody>\n",
       "</table>\n",
       "<p>9551 rows × 21 columns</p>\n",
       "</div>"
      ],
      "text/plain": [
       "      Restaurant ID           Restaurant Name  Country Code              City  \\\n",
       "0           6317637          Le Petit Souffle           162       Makati City   \n",
       "1           6304287          Izakaya Kikufuji           162       Makati City   \n",
       "2           6300002    Heat - Edsa Shangri-La           162  Mandaluyong City   \n",
       "3           6318506                      Ooma           162  Mandaluyong City   \n",
       "4           6314302               Sambo Kojin           162  Mandaluyong City   \n",
       "...             ...                       ...           ...               ...   \n",
       "9546        5915730               Naml۱ Gurme           208         ��stanbul   \n",
       "9547        5908749              Ceviz A��ac۱           208         ��stanbul   \n",
       "9548        5915807                     Huqqa           208         ��stanbul   \n",
       "9549        5916112               A���k Kahve           208         ��stanbul   \n",
       "9550        5927402  Walter's Coffee Roastery           208         ��stanbul   \n",
       "\n",
       "                                                Address  \\\n",
       "0     Third Floor, Century City Mall, Kalayaan Avenu...   \n",
       "1     Little Tokyo, 2277 Chino Roces Avenue, Legaspi...   \n",
       "2     Edsa Shangri-La, 1 Garden Way, Ortigas, Mandal...   \n",
       "3     Third Floor, Mega Fashion Hall, SM Megamall, O...   \n",
       "4     Third Floor, Mega Atrium, SM Megamall, Ortigas...   \n",
       "...                                                 ...   \n",
       "9546  Kemanke�� Karamustafa Pa��a Mahallesi, R۱ht۱m ...   \n",
       "9547  Ko��uyolu Mahallesi, Muhittin ��st�_nda�� Cadd...   \n",
       "9548  Kuru�_e��me Mahallesi, Muallim Naci Caddesi, N...   \n",
       "9549  Kuru�_e��me Mahallesi, Muallim Naci Caddesi, N...   \n",
       "9550  Cafea��a Mahallesi, Bademalt۱ Sokak, No 21/B, ...   \n",
       "\n",
       "                                        Locality  \\\n",
       "0      Century City Mall, Poblacion, Makati City   \n",
       "1     Little Tokyo, Legaspi Village, Makati City   \n",
       "2     Edsa Shangri-La, Ortigas, Mandaluyong City   \n",
       "3         SM Megamall, Ortigas, Mandaluyong City   \n",
       "4         SM Megamall, Ortigas, Mandaluyong City   \n",
       "...                                          ...   \n",
       "9546                                    Karak�_y   \n",
       "9547                                   Ko��uyolu   \n",
       "9548                                 Kuru�_e��me   \n",
       "9549                                 Kuru�_e��me   \n",
       "9550                                        Moda   \n",
       "\n",
       "                                       Locality Verbose   Longitude  \\\n",
       "0     Century City Mall, Poblacion, Makati City, Mak...  121.027535   \n",
       "1     Little Tokyo, Legaspi Village, Makati City, Ma...  121.014101   \n",
       "2     Edsa Shangri-La, Ortigas, Mandaluyong City, Ma...  121.056831   \n",
       "3     SM Megamall, Ortigas, Mandaluyong City, Mandal...  121.056475   \n",
       "4     SM Megamall, Ortigas, Mandaluyong City, Mandal...  121.057508   \n",
       "...                                                 ...         ...   \n",
       "9546                                Karak�_y, ��stanbul   28.977392   \n",
       "9547                               Ko��uyolu, ��stanbul   29.041297   \n",
       "9548                             Kuru�_e��me, ��stanbul   29.034640   \n",
       "9549                             Kuru�_e��me, ��stanbul   29.036019   \n",
       "9550                                    Moda, ��stanbul   29.026016   \n",
       "\n",
       "       Latitude                          Cuisines  ...          Currency  \\\n",
       "0     14.565443        French, Japanese, Desserts  ...  Botswana Pula(P)   \n",
       "1     14.553708                          Japanese  ...  Botswana Pula(P)   \n",
       "2     14.581404  Seafood, Asian, Filipino, Indian  ...  Botswana Pula(P)   \n",
       "3     14.585318                   Japanese, Sushi  ...  Botswana Pula(P)   \n",
       "4     14.584450                  Japanese, Korean  ...  Botswana Pula(P)   \n",
       "...         ...                               ...  ...               ...   \n",
       "9546  41.022793                           Turkish  ...  Turkish Lira(TL)   \n",
       "9547  41.009847   World Cuisine, Patisserie, Cafe  ...  Turkish Lira(TL)   \n",
       "9548  41.055817            Italian, World Cuisine  ...  Turkish Lira(TL)   \n",
       "9549  41.057979                   Restaurant Cafe  ...  Turkish Lira(TL)   \n",
       "9550  40.984776                              Cafe  ...  Turkish Lira(TL)   \n",
       "\n",
       "     Has Table booking Has Online delivery Is delivering now  \\\n",
       "0                  Yes                  No                No   \n",
       "1                  Yes                  No                No   \n",
       "2                  Yes                  No                No   \n",
       "3                   No                  No                No   \n",
       "4                  Yes                  No                No   \n",
       "...                ...                 ...               ...   \n",
       "9546                No                  No                No   \n",
       "9547                No                  No                No   \n",
       "9548                No                  No                No   \n",
       "9549                No                  No                No   \n",
       "9550                No                  No                No   \n",
       "\n",
       "     Switch to order menu Price range  Aggregate rating  Rating color  \\\n",
       "0                      No           3               4.8    Dark Green   \n",
       "1                      No           3               4.5    Dark Green   \n",
       "2                      No           4               4.4         Green   \n",
       "3                      No           4               4.9    Dark Green   \n",
       "4                      No           4               4.8    Dark Green   \n",
       "...                   ...         ...               ...           ...   \n",
       "9546                   No           3               4.1         Green   \n",
       "9547                   No           3               4.2         Green   \n",
       "9548                   No           4               3.7        Yellow   \n",
       "9549                   No           4               4.0         Green   \n",
       "9550                   No           2               4.0         Green   \n",
       "\n",
       "     Rating text Votes  \n",
       "0      Excellent   314  \n",
       "1      Excellent   591  \n",
       "2      Very Good   270  \n",
       "3      Excellent   365  \n",
       "4      Excellent   229  \n",
       "...          ...   ...  \n",
       "9546   Very Good   788  \n",
       "9547   Very Good  1034  \n",
       "9548        Good   661  \n",
       "9549   Very Good   901  \n",
       "9550   Very Good   591  \n",
       "\n",
       "[9551 rows x 21 columns]"
      ]
     },
     "execution_count": 4,
     "metadata": {},
     "output_type": "execute_result"
    }
   ],
   "source": [
    "df = pd.read_csv('C:\\\\Users\\\\HP\\\\OneDrive\\\\Desktop\\\\Dataset.csv.csv')\n",
    "df"
   ]
  },
  {
   "cell_type": "raw",
   "id": "8144616e-1f4c-4e93-8fac-b6ccaa568b8a",
   "metadata": {},
   "source": [
    "There are non-printable and special characters in the dataset,need to remove it first."
   ]
  },
  {
   "cell_type": "code",
   "execution_count": 5,
   "id": "f0345436-e1c5-4c99-92ca-7c2ba5855b44",
   "metadata": {},
   "outputs": [
    {
     "name": "stderr",
     "output_type": "stream",
     "text": [
      "C:\\Users\\HP\\AppData\\Local\\Temp\\ipykernel_17116\\1234330207.py:11: FutureWarning: DataFrame.applymap has been deprecated. Use DataFrame.map instead.\n",
      "  df = df.applymap(remove_non_printable)\n"
     ]
    }
   ],
   "source": [
    "# Importing regular expression module\n",
    "import re\n",
    "\n",
    "# Define a function to clean text.\n",
    "def remove_non_printable(text):\n",
    "    if isinstance(text, str):\n",
    "        return re.sub(r'[^\\x20-\\x7E]', '', text)\n",
    "    return text\n",
    "\n",
    "# applying function to all.\n",
    "df = df.applymap(remove_non_printable)"
   ]
  },
  {
   "cell_type": "code",
   "execution_count": 6,
   "id": "003e9fa2-d13f-4973-9b2e-9fb8aa353e84",
   "metadata": {},
   "outputs": [
    {
     "data": {
      "text/html": [
       "<div>\n",
       "<style scoped>\n",
       "    .dataframe tbody tr th:only-of-type {\n",
       "        vertical-align: middle;\n",
       "    }\n",
       "\n",
       "    .dataframe tbody tr th {\n",
       "        vertical-align: top;\n",
       "    }\n",
       "\n",
       "    .dataframe thead th {\n",
       "        text-align: right;\n",
       "    }\n",
       "</style>\n",
       "<table border=\"1\" class=\"dataframe\">\n",
       "  <thead>\n",
       "    <tr style=\"text-align: right;\">\n",
       "      <th></th>\n",
       "      <th>Restaurant ID</th>\n",
       "      <th>Restaurant Name</th>\n",
       "      <th>Country Code</th>\n",
       "      <th>City</th>\n",
       "      <th>Address</th>\n",
       "      <th>Locality</th>\n",
       "      <th>Locality Verbose</th>\n",
       "      <th>Longitude</th>\n",
       "      <th>Latitude</th>\n",
       "      <th>Cuisines</th>\n",
       "      <th>...</th>\n",
       "      <th>Currency</th>\n",
       "      <th>Has Table booking</th>\n",
       "      <th>Has Online delivery</th>\n",
       "      <th>Is delivering now</th>\n",
       "      <th>Switch to order menu</th>\n",
       "      <th>Price range</th>\n",
       "      <th>Aggregate rating</th>\n",
       "      <th>Rating color</th>\n",
       "      <th>Rating text</th>\n",
       "      <th>Votes</th>\n",
       "    </tr>\n",
       "  </thead>\n",
       "  <tbody>\n",
       "    <tr>\n",
       "      <th>0</th>\n",
       "      <td>6317637</td>\n",
       "      <td>Le Petit Souffle</td>\n",
       "      <td>162</td>\n",
       "      <td>Makati City</td>\n",
       "      <td>Third Floor, Century City Mall, Kalayaan Avenu...</td>\n",
       "      <td>Century City Mall, Poblacion, Makati City</td>\n",
       "      <td>Century City Mall, Poblacion, Makati City, Mak...</td>\n",
       "      <td>121.027535</td>\n",
       "      <td>14.565443</td>\n",
       "      <td>French, Japanese, Desserts</td>\n",
       "      <td>...</td>\n",
       "      <td>Botswana Pula(P)</td>\n",
       "      <td>Yes</td>\n",
       "      <td>No</td>\n",
       "      <td>No</td>\n",
       "      <td>No</td>\n",
       "      <td>3</td>\n",
       "      <td>4.8</td>\n",
       "      <td>Dark Green</td>\n",
       "      <td>Excellent</td>\n",
       "      <td>314</td>\n",
       "    </tr>\n",
       "    <tr>\n",
       "      <th>1</th>\n",
       "      <td>6304287</td>\n",
       "      <td>Izakaya Kikufuji</td>\n",
       "      <td>162</td>\n",
       "      <td>Makati City</td>\n",
       "      <td>Little Tokyo, 2277 Chino Roces Avenue, Legaspi...</td>\n",
       "      <td>Little Tokyo, Legaspi Village, Makati City</td>\n",
       "      <td>Little Tokyo, Legaspi Village, Makati City, Ma...</td>\n",
       "      <td>121.014101</td>\n",
       "      <td>14.553708</td>\n",
       "      <td>Japanese</td>\n",
       "      <td>...</td>\n",
       "      <td>Botswana Pula(P)</td>\n",
       "      <td>Yes</td>\n",
       "      <td>No</td>\n",
       "      <td>No</td>\n",
       "      <td>No</td>\n",
       "      <td>3</td>\n",
       "      <td>4.5</td>\n",
       "      <td>Dark Green</td>\n",
       "      <td>Excellent</td>\n",
       "      <td>591</td>\n",
       "    </tr>\n",
       "    <tr>\n",
       "      <th>2</th>\n",
       "      <td>6300002</td>\n",
       "      <td>Heat - Edsa Shangri-La</td>\n",
       "      <td>162</td>\n",
       "      <td>Mandaluyong City</td>\n",
       "      <td>Edsa Shangri-La, 1 Garden Way, Ortigas, Mandal...</td>\n",
       "      <td>Edsa Shangri-La, Ortigas, Mandaluyong City</td>\n",
       "      <td>Edsa Shangri-La, Ortigas, Mandaluyong City, Ma...</td>\n",
       "      <td>121.056831</td>\n",
       "      <td>14.581404</td>\n",
       "      <td>Seafood, Asian, Filipino, Indian</td>\n",
       "      <td>...</td>\n",
       "      <td>Botswana Pula(P)</td>\n",
       "      <td>Yes</td>\n",
       "      <td>No</td>\n",
       "      <td>No</td>\n",
       "      <td>No</td>\n",
       "      <td>4</td>\n",
       "      <td>4.4</td>\n",
       "      <td>Green</td>\n",
       "      <td>Very Good</td>\n",
       "      <td>270</td>\n",
       "    </tr>\n",
       "    <tr>\n",
       "      <th>3</th>\n",
       "      <td>6318506</td>\n",
       "      <td>Ooma</td>\n",
       "      <td>162</td>\n",
       "      <td>Mandaluyong City</td>\n",
       "      <td>Third Floor, Mega Fashion Hall, SM Megamall, O...</td>\n",
       "      <td>SM Megamall, Ortigas, Mandaluyong City</td>\n",
       "      <td>SM Megamall, Ortigas, Mandaluyong City, Mandal...</td>\n",
       "      <td>121.056475</td>\n",
       "      <td>14.585318</td>\n",
       "      <td>Japanese, Sushi</td>\n",
       "      <td>...</td>\n",
       "      <td>Botswana Pula(P)</td>\n",
       "      <td>No</td>\n",
       "      <td>No</td>\n",
       "      <td>No</td>\n",
       "      <td>No</td>\n",
       "      <td>4</td>\n",
       "      <td>4.9</td>\n",
       "      <td>Dark Green</td>\n",
       "      <td>Excellent</td>\n",
       "      <td>365</td>\n",
       "    </tr>\n",
       "    <tr>\n",
       "      <th>4</th>\n",
       "      <td>6314302</td>\n",
       "      <td>Sambo Kojin</td>\n",
       "      <td>162</td>\n",
       "      <td>Mandaluyong City</td>\n",
       "      <td>Third Floor, Mega Atrium, SM Megamall, Ortigas...</td>\n",
       "      <td>SM Megamall, Ortigas, Mandaluyong City</td>\n",
       "      <td>SM Megamall, Ortigas, Mandaluyong City, Mandal...</td>\n",
       "      <td>121.057508</td>\n",
       "      <td>14.584450</td>\n",
       "      <td>Japanese, Korean</td>\n",
       "      <td>...</td>\n",
       "      <td>Botswana Pula(P)</td>\n",
       "      <td>Yes</td>\n",
       "      <td>No</td>\n",
       "      <td>No</td>\n",
       "      <td>No</td>\n",
       "      <td>4</td>\n",
       "      <td>4.8</td>\n",
       "      <td>Dark Green</td>\n",
       "      <td>Excellent</td>\n",
       "      <td>229</td>\n",
       "    </tr>\n",
       "    <tr>\n",
       "      <th>...</th>\n",
       "      <td>...</td>\n",
       "      <td>...</td>\n",
       "      <td>...</td>\n",
       "      <td>...</td>\n",
       "      <td>...</td>\n",
       "      <td>...</td>\n",
       "      <td>...</td>\n",
       "      <td>...</td>\n",
       "      <td>...</td>\n",
       "      <td>...</td>\n",
       "      <td>...</td>\n",
       "      <td>...</td>\n",
       "      <td>...</td>\n",
       "      <td>...</td>\n",
       "      <td>...</td>\n",
       "      <td>...</td>\n",
       "      <td>...</td>\n",
       "      <td>...</td>\n",
       "      <td>...</td>\n",
       "      <td>...</td>\n",
       "      <td>...</td>\n",
       "    </tr>\n",
       "    <tr>\n",
       "      <th>9546</th>\n",
       "      <td>5915730</td>\n",
       "      <td>Naml Gurme</td>\n",
       "      <td>208</td>\n",
       "      <td>stanbul</td>\n",
       "      <td>Kemanke Karamustafa Paa Mahallesi, Rhtm Caddes...</td>\n",
       "      <td>Karak_y</td>\n",
       "      <td>Karak_y, stanbul</td>\n",
       "      <td>28.977392</td>\n",
       "      <td>41.022793</td>\n",
       "      <td>Turkish</td>\n",
       "      <td>...</td>\n",
       "      <td>Turkish Lira(TL)</td>\n",
       "      <td>No</td>\n",
       "      <td>No</td>\n",
       "      <td>No</td>\n",
       "      <td>No</td>\n",
       "      <td>3</td>\n",
       "      <td>4.1</td>\n",
       "      <td>Green</td>\n",
       "      <td>Very Good</td>\n",
       "      <td>788</td>\n",
       "    </tr>\n",
       "    <tr>\n",
       "      <th>9547</th>\n",
       "      <td>5908749</td>\n",
       "      <td>Ceviz Aac</td>\n",
       "      <td>208</td>\n",
       "      <td>stanbul</td>\n",
       "      <td>Kouyolu Mahallesi, Muhittin st_nda Caddesi, No...</td>\n",
       "      <td>Kouyolu</td>\n",
       "      <td>Kouyolu, stanbul</td>\n",
       "      <td>29.041297</td>\n",
       "      <td>41.009847</td>\n",
       "      <td>World Cuisine, Patisserie, Cafe</td>\n",
       "      <td>...</td>\n",
       "      <td>Turkish Lira(TL)</td>\n",
       "      <td>No</td>\n",
       "      <td>No</td>\n",
       "      <td>No</td>\n",
       "      <td>No</td>\n",
       "      <td>3</td>\n",
       "      <td>4.2</td>\n",
       "      <td>Green</td>\n",
       "      <td>Very Good</td>\n",
       "      <td>1034</td>\n",
       "    </tr>\n",
       "    <tr>\n",
       "      <th>9548</th>\n",
       "      <td>5915807</td>\n",
       "      <td>Huqqa</td>\n",
       "      <td>208</td>\n",
       "      <td>stanbul</td>\n",
       "      <td>Kuru_eme Mahallesi, Muallim Naci Caddesi, No 5...</td>\n",
       "      <td>Kuru_eme</td>\n",
       "      <td>Kuru_eme, stanbul</td>\n",
       "      <td>29.034640</td>\n",
       "      <td>41.055817</td>\n",
       "      <td>Italian, World Cuisine</td>\n",
       "      <td>...</td>\n",
       "      <td>Turkish Lira(TL)</td>\n",
       "      <td>No</td>\n",
       "      <td>No</td>\n",
       "      <td>No</td>\n",
       "      <td>No</td>\n",
       "      <td>4</td>\n",
       "      <td>3.7</td>\n",
       "      <td>Yellow</td>\n",
       "      <td>Good</td>\n",
       "      <td>661</td>\n",
       "    </tr>\n",
       "    <tr>\n",
       "      <th>9549</th>\n",
       "      <td>5916112</td>\n",
       "      <td>Ak Kahve</td>\n",
       "      <td>208</td>\n",
       "      <td>stanbul</td>\n",
       "      <td>Kuru_eme Mahallesi, Muallim Naci Caddesi, No 6...</td>\n",
       "      <td>Kuru_eme</td>\n",
       "      <td>Kuru_eme, stanbul</td>\n",
       "      <td>29.036019</td>\n",
       "      <td>41.057979</td>\n",
       "      <td>Restaurant Cafe</td>\n",
       "      <td>...</td>\n",
       "      <td>Turkish Lira(TL)</td>\n",
       "      <td>No</td>\n",
       "      <td>No</td>\n",
       "      <td>No</td>\n",
       "      <td>No</td>\n",
       "      <td>4</td>\n",
       "      <td>4.0</td>\n",
       "      <td>Green</td>\n",
       "      <td>Very Good</td>\n",
       "      <td>901</td>\n",
       "    </tr>\n",
       "    <tr>\n",
       "      <th>9550</th>\n",
       "      <td>5927402</td>\n",
       "      <td>Walter's Coffee Roastery</td>\n",
       "      <td>208</td>\n",
       "      <td>stanbul</td>\n",
       "      <td>Cafeaa Mahallesi, Bademalt Sokak, No 21/B, Kad...</td>\n",
       "      <td>Moda</td>\n",
       "      <td>Moda, stanbul</td>\n",
       "      <td>29.026016</td>\n",
       "      <td>40.984776</td>\n",
       "      <td>Cafe</td>\n",
       "      <td>...</td>\n",
       "      <td>Turkish Lira(TL)</td>\n",
       "      <td>No</td>\n",
       "      <td>No</td>\n",
       "      <td>No</td>\n",
       "      <td>No</td>\n",
       "      <td>2</td>\n",
       "      <td>4.0</td>\n",
       "      <td>Green</td>\n",
       "      <td>Very Good</td>\n",
       "      <td>591</td>\n",
       "    </tr>\n",
       "  </tbody>\n",
       "</table>\n",
       "<p>9551 rows × 21 columns</p>\n",
       "</div>"
      ],
      "text/plain": [
       "      Restaurant ID           Restaurant Name  Country Code              City  \\\n",
       "0           6317637          Le Petit Souffle           162       Makati City   \n",
       "1           6304287          Izakaya Kikufuji           162       Makati City   \n",
       "2           6300002    Heat - Edsa Shangri-La           162  Mandaluyong City   \n",
       "3           6318506                      Ooma           162  Mandaluyong City   \n",
       "4           6314302               Sambo Kojin           162  Mandaluyong City   \n",
       "...             ...                       ...           ...               ...   \n",
       "9546        5915730                Naml Gurme           208           stanbul   \n",
       "9547        5908749                 Ceviz Aac           208           stanbul   \n",
       "9548        5915807                     Huqqa           208           stanbul   \n",
       "9549        5916112                  Ak Kahve           208           stanbul   \n",
       "9550        5927402  Walter's Coffee Roastery           208           stanbul   \n",
       "\n",
       "                                                Address  \\\n",
       "0     Third Floor, Century City Mall, Kalayaan Avenu...   \n",
       "1     Little Tokyo, 2277 Chino Roces Avenue, Legaspi...   \n",
       "2     Edsa Shangri-La, 1 Garden Way, Ortigas, Mandal...   \n",
       "3     Third Floor, Mega Fashion Hall, SM Megamall, O...   \n",
       "4     Third Floor, Mega Atrium, SM Megamall, Ortigas...   \n",
       "...                                                 ...   \n",
       "9546  Kemanke Karamustafa Paa Mahallesi, Rhtm Caddes...   \n",
       "9547  Kouyolu Mahallesi, Muhittin st_nda Caddesi, No...   \n",
       "9548  Kuru_eme Mahallesi, Muallim Naci Caddesi, No 5...   \n",
       "9549  Kuru_eme Mahallesi, Muallim Naci Caddesi, No 6...   \n",
       "9550  Cafeaa Mahallesi, Bademalt Sokak, No 21/B, Kad...   \n",
       "\n",
       "                                        Locality  \\\n",
       "0      Century City Mall, Poblacion, Makati City   \n",
       "1     Little Tokyo, Legaspi Village, Makati City   \n",
       "2     Edsa Shangri-La, Ortigas, Mandaluyong City   \n",
       "3         SM Megamall, Ortigas, Mandaluyong City   \n",
       "4         SM Megamall, Ortigas, Mandaluyong City   \n",
       "...                                          ...   \n",
       "9546                                     Karak_y   \n",
       "9547                                     Kouyolu   \n",
       "9548                                    Kuru_eme   \n",
       "9549                                    Kuru_eme   \n",
       "9550                                        Moda   \n",
       "\n",
       "                                       Locality Verbose   Longitude  \\\n",
       "0     Century City Mall, Poblacion, Makati City, Mak...  121.027535   \n",
       "1     Little Tokyo, Legaspi Village, Makati City, Ma...  121.014101   \n",
       "2     Edsa Shangri-La, Ortigas, Mandaluyong City, Ma...  121.056831   \n",
       "3     SM Megamall, Ortigas, Mandaluyong City, Mandal...  121.056475   \n",
       "4     SM Megamall, Ortigas, Mandaluyong City, Mandal...  121.057508   \n",
       "...                                                 ...         ...   \n",
       "9546                                   Karak_y, stanbul   28.977392   \n",
       "9547                                   Kouyolu, stanbul   29.041297   \n",
       "9548                                  Kuru_eme, stanbul   29.034640   \n",
       "9549                                  Kuru_eme, stanbul   29.036019   \n",
       "9550                                      Moda, stanbul   29.026016   \n",
       "\n",
       "       Latitude                          Cuisines  ...          Currency  \\\n",
       "0     14.565443        French, Japanese, Desserts  ...  Botswana Pula(P)   \n",
       "1     14.553708                          Japanese  ...  Botswana Pula(P)   \n",
       "2     14.581404  Seafood, Asian, Filipino, Indian  ...  Botswana Pula(P)   \n",
       "3     14.585318                   Japanese, Sushi  ...  Botswana Pula(P)   \n",
       "4     14.584450                  Japanese, Korean  ...  Botswana Pula(P)   \n",
       "...         ...                               ...  ...               ...   \n",
       "9546  41.022793                           Turkish  ...  Turkish Lira(TL)   \n",
       "9547  41.009847   World Cuisine, Patisserie, Cafe  ...  Turkish Lira(TL)   \n",
       "9548  41.055817            Italian, World Cuisine  ...  Turkish Lira(TL)   \n",
       "9549  41.057979                   Restaurant Cafe  ...  Turkish Lira(TL)   \n",
       "9550  40.984776                              Cafe  ...  Turkish Lira(TL)   \n",
       "\n",
       "     Has Table booking Has Online delivery Is delivering now  \\\n",
       "0                  Yes                  No                No   \n",
       "1                  Yes                  No                No   \n",
       "2                  Yes                  No                No   \n",
       "3                   No                  No                No   \n",
       "4                  Yes                  No                No   \n",
       "...                ...                 ...               ...   \n",
       "9546                No                  No                No   \n",
       "9547                No                  No                No   \n",
       "9548                No                  No                No   \n",
       "9549                No                  No                No   \n",
       "9550                No                  No                No   \n",
       "\n",
       "     Switch to order menu Price range  Aggregate rating  Rating color  \\\n",
       "0                      No           3               4.8    Dark Green   \n",
       "1                      No           3               4.5    Dark Green   \n",
       "2                      No           4               4.4         Green   \n",
       "3                      No           4               4.9    Dark Green   \n",
       "4                      No           4               4.8    Dark Green   \n",
       "...                   ...         ...               ...           ...   \n",
       "9546                   No           3               4.1         Green   \n",
       "9547                   No           3               4.2         Green   \n",
       "9548                   No           4               3.7        Yellow   \n",
       "9549                   No           4               4.0         Green   \n",
       "9550                   No           2               4.0         Green   \n",
       "\n",
       "     Rating text Votes  \n",
       "0      Excellent   314  \n",
       "1      Excellent   591  \n",
       "2      Very Good   270  \n",
       "3      Excellent   365  \n",
       "4      Excellent   229  \n",
       "...          ...   ...  \n",
       "9546   Very Good   788  \n",
       "9547   Very Good  1034  \n",
       "9548        Good   661  \n",
       "9549   Very Good   901  \n",
       "9550   Very Good   591  \n",
       "\n",
       "[9551 rows x 21 columns]"
      ]
     },
     "execution_count": 6,
     "metadata": {},
     "output_type": "execute_result"
    }
   ],
   "source": [
    "# Rechecking the dataset after removing non printable items.\n",
    "\n",
    "df"
   ]
  },
  {
   "cell_type": "markdown",
   "id": "d0e5e7ea-662e-4239-9afe-74d54d758161",
   "metadata": {},
   "source": [
    "# Dataset Information"
   ]
  },
  {
   "cell_type": "code",
   "execution_count": 8,
   "id": "be7bf8d2-1050-4764-84bd-68a1904c010c",
   "metadata": {},
   "outputs": [
    {
     "name": "stdout",
     "output_type": "stream",
     "text": [
      "<class 'pandas.core.frame.DataFrame'>\n",
      "RangeIndex: 9551 entries, 0 to 9550\n",
      "Data columns (total 21 columns):\n",
      " #   Column                Non-Null Count  Dtype  \n",
      "---  ------                --------------  -----  \n",
      " 0   Restaurant ID         9551 non-null   int64  \n",
      " 1   Restaurant Name       9551 non-null   object \n",
      " 2   Country Code          9551 non-null   int64  \n",
      " 3   City                  9551 non-null   object \n",
      " 4   Address               9551 non-null   object \n",
      " 5   Locality              9551 non-null   object \n",
      " 6   Locality Verbose      9551 non-null   object \n",
      " 7   Longitude             9551 non-null   float64\n",
      " 8   Latitude              9551 non-null   float64\n",
      " 9   Cuisines              9542 non-null   object \n",
      " 10  Average Cost for two  9551 non-null   int64  \n",
      " 11  Currency              9551 non-null   object \n",
      " 12  Has Table booking     9551 non-null   object \n",
      " 13  Has Online delivery   9551 non-null   object \n",
      " 14  Is delivering now     9551 non-null   object \n",
      " 15  Switch to order menu  9551 non-null   object \n",
      " 16  Price range           9551 non-null   int64  \n",
      " 17  Aggregate rating      9551 non-null   float64\n",
      " 18  Rating color          9551 non-null   object \n",
      " 19  Rating text           9551 non-null   object \n",
      " 20  Votes                 9551 non-null   int64  \n",
      "dtypes: float64(3), int64(5), object(13)\n",
      "memory usage: 1.5+ MB\n"
     ]
    }
   ],
   "source": [
    "# Checking datatypes of fetaure\n",
    "df.info()"
   ]
  },
  {
   "cell_type": "code",
   "execution_count": 9,
   "id": "c7e8976f-d680-4f5a-b461-71c6cad557f1",
   "metadata": {},
   "outputs": [
    {
     "name": "stdout",
     "output_type": "stream",
     "text": [
      "The duplicates present in dataset: 0\n"
     ]
    }
   ],
   "source": [
    "# Checking duplicates\n",
    "\n",
    "print('The duplicates present in dataset:',df.duplicated().sum())"
   ]
  },
  {
   "cell_type": "code",
   "execution_count": 10,
   "id": "e9e0bbd9-3805-4ce9-ad73-d77378d5c14e",
   "metadata": {},
   "outputs": [
    {
     "name": "stdout",
     "output_type": "stream",
     "text": [
      "The Null values present in dataset: Restaurant ID           0\n",
      "Restaurant Name         0\n",
      "Country Code            0\n",
      "City                    0\n",
      "Address                 0\n",
      "Locality                0\n",
      "Locality Verbose        0\n",
      "Longitude               0\n",
      "Latitude                0\n",
      "Cuisines                9\n",
      "Average Cost for two    0\n",
      "Currency                0\n",
      "Has Table booking       0\n",
      "Has Online delivery     0\n",
      "Is delivering now       0\n",
      "Switch to order menu    0\n",
      "Price range             0\n",
      "Aggregate rating        0\n",
      "Rating color            0\n",
      "Rating text             0\n",
      "Votes                   0\n",
      "dtype: int64\n",
      "\n",
      "The percentage of null values present: Restaurant ID           0.000000\n",
      "Restaurant Name         0.000000\n",
      "Country Code            0.000000\n",
      "City                    0.000000\n",
      "Address                 0.000000\n",
      "Locality                0.000000\n",
      "Locality Verbose        0.000000\n",
      "Longitude               0.000000\n",
      "Latitude                0.000000\n",
      "Cuisines                0.094231\n",
      "Average Cost for two    0.000000\n",
      "Currency                0.000000\n",
      "Has Table booking       0.000000\n",
      "Has Online delivery     0.000000\n",
      "Is delivering now       0.000000\n",
      "Switch to order menu    0.000000\n",
      "Price range             0.000000\n",
      "Aggregate rating        0.000000\n",
      "Rating color            0.000000\n",
      "Rating text             0.000000\n",
      "Votes                   0.000000\n",
      "dtype: float64\n"
     ]
    }
   ],
   "source": [
    "# Checking null values\n",
    "\n",
    "print('The Null values present in dataset:',df.isnull().sum())\n",
    "print('\\nThe percentage of null values present:',df.isnull().sum()/len(df) * 100)"
   ]
  },
  {
   "cell_type": "code",
   "execution_count": 11,
   "id": "c35e12c9-97ea-49ae-abc6-bb16943bfa09",
   "metadata": {},
   "outputs": [
    {
     "data": {
      "text/html": [
       "<div>\n",
       "<style scoped>\n",
       "    .dataframe tbody tr th:only-of-type {\n",
       "        vertical-align: middle;\n",
       "    }\n",
       "\n",
       "    .dataframe tbody tr th {\n",
       "        vertical-align: top;\n",
       "    }\n",
       "\n",
       "    .dataframe thead th {\n",
       "        text-align: right;\n",
       "    }\n",
       "</style>\n",
       "<table border=\"1\" class=\"dataframe\">\n",
       "  <thead>\n",
       "    <tr style=\"text-align: right;\">\n",
       "      <th></th>\n",
       "      <th>Restaurant ID</th>\n",
       "      <th>Country Code</th>\n",
       "      <th>Longitude</th>\n",
       "      <th>Latitude</th>\n",
       "      <th>Average Cost for two</th>\n",
       "      <th>Price range</th>\n",
       "      <th>Aggregate rating</th>\n",
       "      <th>Votes</th>\n",
       "    </tr>\n",
       "  </thead>\n",
       "  <tbody>\n",
       "    <tr>\n",
       "      <th>count</th>\n",
       "      <td>9.551000e+03</td>\n",
       "      <td>9551.000000</td>\n",
       "      <td>9551.000000</td>\n",
       "      <td>9551.000000</td>\n",
       "      <td>9551.000000</td>\n",
       "      <td>9551.000000</td>\n",
       "      <td>9551.000000</td>\n",
       "      <td>9551.000000</td>\n",
       "    </tr>\n",
       "    <tr>\n",
       "      <th>mean</th>\n",
       "      <td>9.051128e+06</td>\n",
       "      <td>18.365616</td>\n",
       "      <td>64.126574</td>\n",
       "      <td>25.854381</td>\n",
       "      <td>1199.210763</td>\n",
       "      <td>1.804837</td>\n",
       "      <td>2.666370</td>\n",
       "      <td>156.909748</td>\n",
       "    </tr>\n",
       "    <tr>\n",
       "      <th>std</th>\n",
       "      <td>8.791521e+06</td>\n",
       "      <td>56.750546</td>\n",
       "      <td>41.467058</td>\n",
       "      <td>11.007935</td>\n",
       "      <td>16121.183073</td>\n",
       "      <td>0.905609</td>\n",
       "      <td>1.516378</td>\n",
       "      <td>430.169145</td>\n",
       "    </tr>\n",
       "    <tr>\n",
       "      <th>min</th>\n",
       "      <td>5.300000e+01</td>\n",
       "      <td>1.000000</td>\n",
       "      <td>-157.948486</td>\n",
       "      <td>-41.330428</td>\n",
       "      <td>0.000000</td>\n",
       "      <td>1.000000</td>\n",
       "      <td>0.000000</td>\n",
       "      <td>0.000000</td>\n",
       "    </tr>\n",
       "    <tr>\n",
       "      <th>25%</th>\n",
       "      <td>3.019625e+05</td>\n",
       "      <td>1.000000</td>\n",
       "      <td>77.081343</td>\n",
       "      <td>28.478713</td>\n",
       "      <td>250.000000</td>\n",
       "      <td>1.000000</td>\n",
       "      <td>2.500000</td>\n",
       "      <td>5.000000</td>\n",
       "    </tr>\n",
       "    <tr>\n",
       "      <th>50%</th>\n",
       "      <td>6.004089e+06</td>\n",
       "      <td>1.000000</td>\n",
       "      <td>77.191964</td>\n",
       "      <td>28.570469</td>\n",
       "      <td>400.000000</td>\n",
       "      <td>2.000000</td>\n",
       "      <td>3.200000</td>\n",
       "      <td>31.000000</td>\n",
       "    </tr>\n",
       "    <tr>\n",
       "      <th>75%</th>\n",
       "      <td>1.835229e+07</td>\n",
       "      <td>1.000000</td>\n",
       "      <td>77.282006</td>\n",
       "      <td>28.642758</td>\n",
       "      <td>700.000000</td>\n",
       "      <td>2.000000</td>\n",
       "      <td>3.700000</td>\n",
       "      <td>131.000000</td>\n",
       "    </tr>\n",
       "    <tr>\n",
       "      <th>max</th>\n",
       "      <td>1.850065e+07</td>\n",
       "      <td>216.000000</td>\n",
       "      <td>174.832089</td>\n",
       "      <td>55.976980</td>\n",
       "      <td>800000.000000</td>\n",
       "      <td>4.000000</td>\n",
       "      <td>4.900000</td>\n",
       "      <td>10934.000000</td>\n",
       "    </tr>\n",
       "  </tbody>\n",
       "</table>\n",
       "</div>"
      ],
      "text/plain": [
       "       Restaurant ID  Country Code    Longitude     Latitude  \\\n",
       "count   9.551000e+03   9551.000000  9551.000000  9551.000000   \n",
       "mean    9.051128e+06     18.365616    64.126574    25.854381   \n",
       "std     8.791521e+06     56.750546    41.467058    11.007935   \n",
       "min     5.300000e+01      1.000000  -157.948486   -41.330428   \n",
       "25%     3.019625e+05      1.000000    77.081343    28.478713   \n",
       "50%     6.004089e+06      1.000000    77.191964    28.570469   \n",
       "75%     1.835229e+07      1.000000    77.282006    28.642758   \n",
       "max     1.850065e+07    216.000000   174.832089    55.976980   \n",
       "\n",
       "       Average Cost for two  Price range  Aggregate rating         Votes  \n",
       "count           9551.000000  9551.000000       9551.000000   9551.000000  \n",
       "mean            1199.210763     1.804837          2.666370    156.909748  \n",
       "std            16121.183073     0.905609          1.516378    430.169145  \n",
       "min                0.000000     1.000000          0.000000      0.000000  \n",
       "25%              250.000000     1.000000          2.500000      5.000000  \n",
       "50%              400.000000     2.000000          3.200000     31.000000  \n",
       "75%              700.000000     2.000000          3.700000    131.000000  \n",
       "max           800000.000000     4.000000          4.900000  10934.000000  "
      ]
     },
     "execution_count": 11,
     "metadata": {},
     "output_type": "execute_result"
    }
   ],
   "source": [
    "# view descriptive analysis\n",
    "\n",
    "df.describe()"
   ]
  },
  {
   "cell_type": "code",
   "execution_count": 12,
   "id": "f6e3902f-3b32-4914-9035-3ac40e92d20a",
   "metadata": {},
   "outputs": [
    {
     "data": {
      "text/html": [
       "<div>\n",
       "<style scoped>\n",
       "    .dataframe tbody tr th:only-of-type {\n",
       "        vertical-align: middle;\n",
       "    }\n",
       "\n",
       "    .dataframe tbody tr th {\n",
       "        vertical-align: top;\n",
       "    }\n",
       "\n",
       "    .dataframe thead th {\n",
       "        text-align: right;\n",
       "    }\n",
       "</style>\n",
       "<table border=\"1\" class=\"dataframe\">\n",
       "  <thead>\n",
       "    <tr style=\"text-align: right;\">\n",
       "      <th></th>\n",
       "      <th>Restaurant Name</th>\n",
       "      <th>City</th>\n",
       "      <th>Address</th>\n",
       "      <th>Locality</th>\n",
       "      <th>Locality Verbose</th>\n",
       "      <th>Cuisines</th>\n",
       "      <th>Currency</th>\n",
       "      <th>Has Table booking</th>\n",
       "      <th>Has Online delivery</th>\n",
       "      <th>Is delivering now</th>\n",
       "      <th>Switch to order menu</th>\n",
       "      <th>Rating color</th>\n",
       "      <th>Rating text</th>\n",
       "    </tr>\n",
       "  </thead>\n",
       "  <tbody>\n",
       "    <tr>\n",
       "      <th>count</th>\n",
       "      <td>9551</td>\n",
       "      <td>9551</td>\n",
       "      <td>9551</td>\n",
       "      <td>9551</td>\n",
       "      <td>9551</td>\n",
       "      <td>9542</td>\n",
       "      <td>9551</td>\n",
       "      <td>9551</td>\n",
       "      <td>9551</td>\n",
       "      <td>9551</td>\n",
       "      <td>9551</td>\n",
       "      <td>9551</td>\n",
       "      <td>9551</td>\n",
       "    </tr>\n",
       "    <tr>\n",
       "      <th>unique</th>\n",
       "      <td>7446</td>\n",
       "      <td>141</td>\n",
       "      <td>8918</td>\n",
       "      <td>1208</td>\n",
       "      <td>1265</td>\n",
       "      <td>1825</td>\n",
       "      <td>12</td>\n",
       "      <td>2</td>\n",
       "      <td>2</td>\n",
       "      <td>2</td>\n",
       "      <td>1</td>\n",
       "      <td>6</td>\n",
       "      <td>6</td>\n",
       "    </tr>\n",
       "    <tr>\n",
       "      <th>top</th>\n",
       "      <td>Cafe Coffee Day</td>\n",
       "      <td>New Delhi</td>\n",
       "      <td>Dilli Haat, INA, New Delhi</td>\n",
       "      <td>Connaught Place</td>\n",
       "      <td>Connaught Place, New Delhi</td>\n",
       "      <td>North Indian</td>\n",
       "      <td>Indian Rupees(Rs.)</td>\n",
       "      <td>No</td>\n",
       "      <td>No</td>\n",
       "      <td>No</td>\n",
       "      <td>No</td>\n",
       "      <td>Orange</td>\n",
       "      <td>Average</td>\n",
       "    </tr>\n",
       "    <tr>\n",
       "      <th>freq</th>\n",
       "      <td>83</td>\n",
       "      <td>5473</td>\n",
       "      <td>11</td>\n",
       "      <td>122</td>\n",
       "      <td>122</td>\n",
       "      <td>936</td>\n",
       "      <td>8652</td>\n",
       "      <td>8393</td>\n",
       "      <td>7100</td>\n",
       "      <td>9517</td>\n",
       "      <td>9551</td>\n",
       "      <td>3737</td>\n",
       "      <td>3737</td>\n",
       "    </tr>\n",
       "  </tbody>\n",
       "</table>\n",
       "</div>"
      ],
      "text/plain": [
       "        Restaurant Name       City                     Address  \\\n",
       "count              9551       9551                        9551   \n",
       "unique             7446        141                        8918   \n",
       "top     Cafe Coffee Day  New Delhi  Dilli Haat, INA, New Delhi   \n",
       "freq                 83       5473                          11   \n",
       "\n",
       "               Locality            Locality Verbose      Cuisines  \\\n",
       "count              9551                        9551          9542   \n",
       "unique             1208                        1265          1825   \n",
       "top     Connaught Place  Connaught Place, New Delhi  North Indian   \n",
       "freq                122                         122           936   \n",
       "\n",
       "                  Currency Has Table booking Has Online delivery  \\\n",
       "count                 9551              9551                9551   \n",
       "unique                  12                 2                   2   \n",
       "top     Indian Rupees(Rs.)                No                  No   \n",
       "freq                  8652              8393                7100   \n",
       "\n",
       "       Is delivering now Switch to order menu Rating color Rating text  \n",
       "count               9551                 9551         9551        9551  \n",
       "unique                 2                    1            6           6  \n",
       "top                   No                   No       Orange     Average  \n",
       "freq                9517                 9551         3737        3737  "
      ]
     },
     "execution_count": 12,
     "metadata": {},
     "output_type": "execute_result"
    }
   ],
   "source": [
    "df.describe(include='O')"
   ]
  },
  {
   "cell_type": "code",
   "execution_count": 13,
   "id": "8e969ea4-5794-4388-afd1-f079248aea92",
   "metadata": {},
   "outputs": [],
   "source": [
    "# Remove the rows where Cuisine is null.\n",
    "\n",
    "df.dropna(subset=['Cuisines'],inplace=True)"
   ]
  },
  {
   "cell_type": "code",
   "execution_count": 14,
   "id": "8a0a9dfa-8163-4e1b-bc41-69ee2108b146",
   "metadata": {},
   "outputs": [
    {
     "name": "stdout",
     "output_type": "stream",
     "text": [
      "The unique values of Cuisines: 1825\n"
     ]
    }
   ],
   "source": [
    "print('The unique values of Cuisines:',df['Cuisines'].nunique())"
   ]
  },
  {
   "cell_type": "raw",
   "id": "39b11ca8-118b-47ab-8695-4f0a57fe2382",
   "metadata": {},
   "source": [
    "Cuisines is the target feature need to predict. In this column multiple cuisines per row is present which is hard for classifiers to handle.\n",
    "So turns into a single label classification task and helps the model on the main cuisine offered by a restaurant.\n",
    "Reduces the number of unique classes and avoid overlap."
   ]
  },
  {
   "cell_type": "code",
   "execution_count": 15,
   "id": "945008c2-5e77-4e07-9741-9faed669620f",
   "metadata": {},
   "outputs": [
    {
     "name": "stdout",
     "output_type": "stream",
     "text": [
      "The unique values after turns into Cuisines : 119\n"
     ]
    }
   ],
   "source": [
    "df['Cuisines'] = df['Cuisines'].apply(lambda x:x.split(',')[0].strip())\n",
    "print('The unique values after turns into Cuisines :', df['Cuisines'].nunique())"
   ]
  },
  {
   "cell_type": "code",
   "execution_count": 16,
   "id": "ea226244-8e83-4ae7-b694-2c6dfb494c2d",
   "metadata": {},
   "outputs": [
    {
     "name": "stdout",
     "output_type": "stream",
     "text": [
      "The number of unique present in numerical features:\n",
      " Restaurant ID           9542\n",
      "Country Code              15\n",
      "Longitude               8111\n",
      "Latitude                8668\n",
      "Average Cost for two     140\n",
      "Price range                4\n",
      "Aggregate rating          33\n",
      "Votes                   1012\n",
      "dtype: int64\n"
     ]
    }
   ],
   "source": [
    "print('The number of unique present in numerical features:\\n', df.select_dtypes(include='number').nunique())"
   ]
  },
  {
   "cell_type": "code",
   "execution_count": 17,
   "id": "5e3e90de-3e30-4781-bff1-d6b3377c0f37",
   "metadata": {},
   "outputs": [
    {
     "name": "stdout",
     "output_type": "stream",
     "text": [
      "The value count in Country Code: Country Code\n",
      "1      8652\n",
      "216     425\n",
      "215      80\n",
      "30       60\n",
      "214      60\n",
      "189      60\n",
      "148      40\n",
      "208      34\n",
      "14       24\n",
      "162      22\n",
      "94       21\n",
      "184      20\n",
      "166      20\n",
      "191      20\n",
      "37        4\n",
      "Name: count, dtype: int64\n",
      "\n",
      "The value count in Rating text: Rating text\n",
      "Average      3734\n",
      "Not rated    2148\n",
      "Good         2096\n",
      "Very Good    1078\n",
      "Excellent     300\n",
      "Poor          186\n",
      "Name: count, dtype: int64\n",
      "\n",
      "The value count in Price range: Price range\n",
      "1    4438\n",
      "2    3113\n",
      "3    1405\n",
      "4     586\n",
      "Name: count, dtype: int64\n"
     ]
    }
   ],
   "source": [
    "print('The value count in Country Code:',df['Country Code'].value_counts())\n",
    "print('\\nThe value count in Rating text:',df['Rating text'].value_counts())\n",
    "print('\\nThe value count in Price range:',df['Price range'].value_counts())"
   ]
  },
  {
   "cell_type": "markdown",
   "id": "01822d22-246e-4a2f-ab23-50a35c6e6587",
   "metadata": {},
   "source": [
    "## Irrelevant Columns."
   ]
  },
  {
   "cell_type": "raw",
   "id": "98433f55-83f3-4b44-9897-1c379b1c1134",
   "metadata": {},
   "source": [
    "Restaurant_ID is unique in all rows, can only considered as unique identifier and not useful for prediction.\n",
    "Restaurant_Name and Address are all pure text, unique like Restauran_ID, not usefull for cuisine classification.\n",
    "Locality Verbose is not usefull, though dataset have Country, City and locality.\n",
    "Switch to order menu has unique value 'No' in all records, which is not related to cuisine and doesn't have predictive power.\n",
    " Aggregate rating and rating text is present, so Rating color is redundant column.\n",
    "We have Country Code, so no need for Currency"
   ]
  },
  {
   "cell_type": "code",
   "execution_count": 19,
   "id": "a3cd4a87-4cd0-470a-9f1c-790bf2824d86",
   "metadata": {},
   "outputs": [],
   "source": [
    "cols_to_drop = ['Restaurant ID', 'Restaurant Name', 'Address',\n",
    "    'Locality Verbose', 'Switch to order menu', 'Rating color','Currency'\n",
    "]\n",
    "\n",
    "df.drop(columns = cols_to_drop, inplace=True)"
   ]
  },
  {
   "cell_type": "markdown",
   "id": "048dc9f1-ab4c-468c-b05f-f70ee34b17d9",
   "metadata": {},
   "source": [
    "## Detecting and removing Outliers"
   ]
  },
  {
   "cell_type": "code",
   "execution_count": 21,
   "id": "bcabbe4e-20af-482d-af0e-7229825fb4ec",
   "metadata": {},
   "outputs": [],
   "source": [
    "numerical_columns = ['Average Cost for two','Aggregate rating','Votes']"
   ]
  },
  {
   "cell_type": "raw",
   "id": "f68dc267-3550-485b-8de6-68746680bc18",
   "metadata": {},
   "source": [
    "Eventhough Country Code is numerical , its a categorical location identifier. It is not numeric metric.\n",
    "Price range is not continuos like cost or votes. Values like1(low) to 4(high) have categorical meaning."
   ]
  },
  {
   "cell_type": "code",
   "execution_count": 22,
   "id": "bb63f4a4-fbc7-4bca-82b3-8c217ea83823",
   "metadata": {},
   "outputs": [
    {
     "data": {
      "image/png": "[encoded data removed]",
      "text/plain": [
       "<Figure size 800x400 with 1 Axes>"
      ]
     },
     "metadata": {},
     "output_type": "display_data"
    },
    {
     "data": {
      "image/png": "[encoded data removed]",
      "text/plain": [
       "<Figure size 800x400 with 1 Axes>"
      ]
     },
     "metadata": {},
     "output_type": "display_data"
    },
    {
     "data": {
      "image/png": "[encoded data removed]",
      "text/plain": [
       "<Figure size 800x400 with 1 Axes>"
      ]
     },
     "metadata": {},
     "output_type": "display_data"
    }
   ],
   "source": [
    "for col in numerical_columns:\n",
    "    plt.figure(figsize=(8,4))\n",
    "    sns.boxplot(data=df,x=col)\n",
    "    plt.title(f'Box plot of {col}')"
   ]
  },
  {
   "cell_type": "markdown",
   "id": "eb03a153-b49d-4a98-af32-97a787f58e05",
   "metadata": {},
   "source": [
    "## Distribution of Numerical columns"
   ]
  },
  {
   "cell_type": "code",
   "execution_count": 24,
   "id": "e6175155-ca48-4766-b74c-a7a4e06fe41a",
   "metadata": {},
   "outputs": [
    {
     "name": "stdout",
     "output_type": "stream",
     "text": [
      "The skewness of numerical columns are: Average Cost for two    35.461264\n",
      "Aggregate rating        -0.953052\n",
      "Votes                    8.813270\n",
      "dtype: float64\n",
      "The kurtosis of numerical columns are: Average Cost for two    1494.371209\n",
      "Aggregate rating          -0.584832\n",
      "Votes                    128.316022\n",
      "dtype: float64\n"
     ]
    }
   ],
   "source": [
    "print('The skewness of numerical columns are:', df[numerical_columns].skew())\n",
    "print('The kurtosis of numerical columns are:',df[numerical_columns].kurtosis())"
   ]
  },
  {
   "cell_type": "markdown",
   "id": "4b968082-3e47-4311-a546-679151888659",
   "metadata": {},
   "source": [
    "## IQR Method for removing Outliers"
   ]
  },
  {
   "cell_type": "code",
   "execution_count": 26,
   "id": "91bf435f-e2ac-4b5d-a10c-4858b21623e4",
   "metadata": {},
   "outputs": [],
   "source": [
    "for col in numerical_columns:\n",
    "    Q1 = df[col].quantile(0.25)\n",
    "    Q3 = df[col].quantile(0.75)\n",
    "    IQR = Q3 - Q1\n",
    "    lower_bound = Q1 - (1.5 * IQR)\n",
    "    upper_bound = Q3 + (1.5 * IQR)\n",
    "\n",
    "    df[col] = df[col].clip(lower=lower_bound, upper=upper_bound)\n"
   ]
  },
  {
   "cell_type": "code",
   "execution_count": 27,
   "id": "8f7f52c2-3444-400f-8ec8-4389f5adf0b6",
   "metadata": {},
   "outputs": [
    {
     "data": {
      "image/png": "[encoded data removed]",
      "text/plain": [
       "<Figure size 800x400 with 1 Axes>"
      ]
     },
     "metadata": {},
     "output_type": "display_data"
    },
    {
     "data": {
      "image/png": "[encoded data removed]",
      "text/plain": [
       "<Figure size 800x400 with 1 Axes>"
      ]
     },
     "metadata": {},
     "output_type": "display_data"
    },
    {
     "data": {
      "image/png": "[encoded data removed]",
      "text/plain": [
       "<Figure size 800x400 with 1 Axes>"
      ]
     },
     "metadata": {},
     "output_type": "display_data"
    }
   ],
   "source": [
    "for col in numerical_columns:\n",
    "    plt.figure(figsize=(8,4))\n",
    "    sns.boxplot(data=df,x=col)\n",
    "    plt.title(f'Box plot after removing Outliers {col}')"
   ]
  },
  {
   "cell_type": "code",
   "execution_count": 28,
   "id": "b2b87001-c5ff-4d08-ab6e-c4ba6a9a76e2",
   "metadata": {},
   "outputs": [
    {
     "name": "stdout",
     "output_type": "stream",
     "text": [
      "The skewness of Numerical columns after removing Outliers:\n",
      " Average Cost for two    0.984675\n",
      "Aggregate rating       -0.783333\n",
      "Votes                   1.222367\n",
      "dtype: float64\n",
      "The kurtosis of Numerical columns after removing Outliers:\n",
      " Average Cost for two    0.127683\n",
      "Aggregate rating       -0.701315\n",
      "Votes                   0.016758\n",
      "dtype: float64\n"
     ]
    }
   ],
   "source": [
    "print('The skewness of Numerical columns after removing Outliers:\\n',df[numerical_columns].skew())\n",
    "print('The kurtosis of Numerical columns after removing Outliers:\\n',df[numerical_columns].kurtosis())\n",
    "      "
   ]
  },
  {
   "cell_type": "markdown",
   "id": "59b839e5-8781-4426-90b4-c82b94f86450",
   "metadata": {},
   "source": [
    "## Correlation Heatmap"
   ]
  },
  {
   "cell_type": "raw",
   "id": "0aa9752e-16a0-4ce7-93db-b7d15ceb9aff",
   "metadata": {},
   "source": [
    "Correlation heatmaps is used to find the potential relationship between variables and to understand the strength of these relationships."
   ]
  },
  {
   "cell_type": "code",
   "execution_count": 30,
   "id": "d0a37541-8a07-4ceb-a931-660fc4095984",
   "metadata": {},
   "outputs": [
    {
     "data": {
      "text/plain": [
       "<Axes: >"
      ]
     },
     "execution_count": 30,
     "metadata": {},
     "output_type": "execute_result"
    },
    {
     "data": {
      "image/png": "[encoded data removed]",
      "text/plain": [
       "<Figure size 640x480 with 2 Axes>"
      ]
     },
     "metadata": {},
     "output_type": "display_data"
    }
   ],
   "source": [
    "sns.heatmap(df.select_dtypes(include='number').corr(), annot =True)"
   ]
  },
  {
   "cell_type": "code",
   "execution_count": 31,
   "id": "fe20e3a8-4a53-451c-a553-ffc2407ca67b",
   "metadata": {},
   "outputs": [],
   "source": [
    "# From the heatmap there is highly negative correlation between Country Code and Longitude of -0.69"
   ]
  },
  {
   "cell_type": "markdown",
   "id": "e2a6338f-84b8-493b-a6b3-24effa3dea1b",
   "metadata": {},
   "source": [
    "# Data Visualization"
   ]
  },
  {
   "cell_type": "markdown",
   "id": "c4cc15e9-0e47-405a-a351-72323efa3349",
   "metadata": {},
   "source": [
    "## 1. Restaurants by Country Code."
   ]
  },
  {
   "cell_type": "code",
   "execution_count": 34,
   "id": "43e1d077-fa2f-4158-bf8b-9b16d571b483",
   "metadata": {},
   "outputs": [
    {
     "data": {
      "text/plain": [
       "Text(0.5, 1.0, 'Number of Restaurants by Country Code')"
      ]
     },
     "execution_count": 34,
     "metadata": {},
     "output_type": "execute_result"
    },
    {
     "data": {
      "image/png": "[encoded data removed]",
      "text/plain": [
       "<Figure size 1000x600 with 1 Axes>"
      ]
     },
     "metadata": {},
     "output_type": "display_data"
    }
   ],
   "source": [
    "plt.figure(figsize=(10,6))\n",
    "ax = sns.countplot(data=df,x='Country Code')\n",
    "for container in ax.containers:\n",
    "    ax.bar_label(container)\n",
    "\n",
    "plt.title('Number of Restaurants by Country Code')"
   ]
  },
  {
   "cell_type": "raw",
   "id": "0682b805-5dcd-4506-be20-c3bc9c0a7f95",
   "metadata": {},
   "source": [
    "In the visualization it is clear the Country Code 1 has the most number of Restaurants, follows 216 and 215"
   ]
  },
  {
   "cell_type": "markdown",
   "id": "0a19f470-799f-47ac-8516-613d537d357a",
   "metadata": {},
   "source": [
    "## 2. Top Cuisines Overall"
   ]
  },
  {
   "cell_type": "code",
   "execution_count": 36,
   "id": "658291c3-5a9e-4c14-b0c7-67936071d71c",
   "metadata": {},
   "outputs": [
    {
     "data": {
      "text/plain": [
       "Text(0.5, 1.0, 'Top 20 Most Popular Cuisines')"
      ]
     },
     "execution_count": 36,
     "metadata": {},
     "output_type": "execute_result"
    },
    {
     "data": {
      "image/png": "[encoded data removed]",
      "text/plain": [
       "<Figure size 800x600 with 1 Axes>"
      ]
     },
     "metadata": {},
     "output_type": "display_data"
    }
   ],
   "source": [
    "plt.figure(figsize=(8,6))\n",
    "ax=df['Cuisines'].value_counts().head(15).plot(kind='bar')\n",
    "for container in ax.containers:\n",
    "    ax.bar_label(container)\n",
    "\n",
    "plt.xlabel('Cuisines')\n",
    "plt.ylabel('Number of Restaurants')\n",
    "plt.title('Top 20 Most Popular Cuisines')"
   ]
  },
  {
   "cell_type": "raw",
   "id": "e66de979-f8bc-42e5-9991-1d4852e5ca80",
   "metadata": {},
   "source": [
    "By observing the above chart, North Indian cuisine is the most ordered"
   ]
  },
  {
   "cell_type": "markdown",
   "id": "421b1626-d7a5-4eab-a5a2-c33e77e02cef",
   "metadata": {},
   "source": [
    "## 3. Expensive Cuisines."
   ]
  },
  {
   "cell_type": "code",
   "execution_count": 38,
   "id": "9000b32a-a4d5-4acd-abed-2c1115a755ab",
   "metadata": {},
   "outputs": [
    {
     "data": {
      "text/plain": [
       "Text(0.5, 1.0, 'Top 10 Expensive Cuisines')"
      ]
     },
     "execution_count": 38,
     "metadata": {},
     "output_type": "execute_result"
    },
    {
     "data": {
      "image/png": "[encoded data removed]",
      "text/plain": [
       "<Figure size 1200x800 with 1 Axes>"
      ]
     },
     "metadata": {},
     "output_type": "display_data"
    }
   ],
   "source": [
    "plt.figure(figsize=(12,8))\n",
    "ax = df.groupby('Cuisines')['Average Cost for two'].mean().sort_values(ascending=False).head(10).plot(kind='barh')\n",
    "for container in ax.containers:\n",
    "    ax.bar_label(container)\n",
    "\n",
    "plt.xlabel('Average Cost')\n",
    "plt.ylabel('Cuisines')\n",
    "plt.title('Top 10 Expensive Cuisines')\n",
    "\n"
   ]
  },
  {
   "cell_type": "markdown",
   "id": "4f2759ac-995c-49cb-a7e8-f22d2bd736e9",
   "metadata": {},
   "source": [
    "## 4. Affordable Cuisines."
   ]
  },
  {
   "cell_type": "code",
   "execution_count": 40,
   "id": "ac9c0caa-2cca-45ed-9fc2-0414f58a98b8",
   "metadata": {},
   "outputs": [
    {
     "data": {
      "text/plain": [
       "Text(0.5, 1.0, 'Top 10 affordable Cuisines')"
      ]
     },
     "execution_count": 40,
     "metadata": {},
     "output_type": "execute_result"
    },
    {
     "data": {
      "image/png": "[encoded data removed]",
      "text/plain": [
       "<Figure size 1600x800 with 1 Axes>"
      ]
     },
     "metadata": {},
     "output_type": "display_data"
    }
   ],
   "source": [
    "plt.figure(figsize=(16,8))\n",
    "ax = df.groupby('Cuisines')['Average Cost for two'].mean().sort_values().head(10).plot(kind='barh')\n",
    "for container in ax.containers:\n",
    "    ax.bar_label(container)\n",
    "plt.xlabel('Average Cost')\n",
    "plt.ylabel('Cuisines')\n",
    "plt.title('Top 10 affordable Cuisines')"
   ]
  },
  {
   "cell_type": "markdown",
   "id": "7794da25-6b37-4492-bf22-18ebd8841f02",
   "metadata": {},
   "source": [
    "## 5. High Rated Cuisines"
   ]
  },
  {
   "cell_type": "code",
   "execution_count": 42,
   "id": "1ac37b70-9003-4794-9f50-8ecdb3ceaf94",
   "metadata": {},
   "outputs": [
    {
     "data": {
      "text/plain": [
       "Text(0.5, 1.0, 'Top 10 High Rated Cuisines')"
      ]
     },
     "execution_count": 42,
     "metadata": {},
     "output_type": "execute_result"
    },
    {
     "data": {
      "image/png": "[encoded data removed]",
      "text/plain": [
       "<Figure size 1000x800 with 1 Axes>"
      ]
     },
     "metadata": {},
     "output_type": "display_data"
    }
   ],
   "source": [
    "plt.figure(figsize=(10,8))\n",
    "ax = df.groupby('Cuisines')['Aggregate rating'].mean().sort_values(ascending=False).head(10).plot(kind='barh')\n",
    "for container in ax.containers:\n",
    "    ax.bar_label(container)\n",
    "\n",
    "plt.xlabel('Average Ratings')\n",
    "plt.ylabel('Cuisines')\n",
    "plt.title('Top 10 High Rated Cuisines')"
   ]
  },
  {
   "cell_type": "markdown",
   "id": "9555c800-ead7-4317-a698-df767aeaae86",
   "metadata": {},
   "source": [
    "## 6. Low Rated Cuisines."
   ]
  },
  {
   "cell_type": "code",
   "execution_count": 44,
   "id": "b3297d8a-553b-4c7c-ab5b-5477c6062481",
   "metadata": {},
   "outputs": [
    {
     "data": {
      "text/plain": [
       "Text(0.5, 1.0, 'Top 10 Low rated Cuisines')"
      ]
     },
     "execution_count": 44,
     "metadata": {},
     "output_type": "execute_result"
    },
    {
     "data": {
      "image/png": "[encoded data removed]",
      "text/plain": [
       "<Figure size 1000x700 with 1 Axes>"
      ]
     },
     "metadata": {},
     "output_type": "display_data"
    }
   ],
   "source": [
    "plt.figure(figsize=(10,7))\n",
    "low_rated =  df.groupby('Cuisines')['Aggregate rating'].mean().sort_values().head(10)\n",
    "ax = low_rated.plot(kind='bar',color='mediumseagreen')\n",
    "for i in ax.containers:\n",
    "    ax.bar_label(i)\n",
    "\n",
    "plt.ylabel('Average Rating')\n",
    "plt.title('Top 10 Low rated Cuisines')"
   ]
  },
  {
   "cell_type": "markdown",
   "id": "15a33e66-e3e8-4e9b-aed4-7692a1ed5dae",
   "metadata": {},
   "source": [
    "## 7. City with Best Cuisines"
   ]
  },
  {
   "cell_type": "code",
   "execution_count": 46,
   "id": "255ebf20-a923-4d76-b0be-7c1206d89a6b",
   "metadata": {},
   "outputs": [
    {
     "data": {
      "text/plain": [
       "Text(0.5, 1.0, 'Top 5 City with best Cuisines')"
      ]
     },
     "execution_count": 46,
     "metadata": {},
     "output_type": "execute_result"
    },
    {
     "data": {
      "image/png": "[encoded data removed]",
      "text/plain": [
       "<Figure size 800x600 with 1 Axes>"
      ]
     },
     "metadata": {},
     "output_type": "display_data"
    }
   ],
   "source": [
    "plt.figure(figsize=(8,6))\n",
    "ax = df.groupby('City')['Aggregate rating'].mean().sort_values(ascending=False).head(6).plot(kind='bar',color='red')\n",
    "for i in ax.containers:\n",
    "    ax.bar_label(i)\n",
    "\n",
    "plt.ylabel('Average Ratings')\n",
    "plt.title('Top 5 City with best Cuisines')"
   ]
  },
  {
   "cell_type": "markdown",
   "id": "c2426eee-3204-4711-9579-88b085f4a741",
   "metadata": {},
   "source": [
    "## 8. Average Votes by Primary Cuisine"
   ]
  },
  {
   "cell_type": "code",
   "execution_count": 48,
   "id": "36f821f7-4e65-4c3e-a0bc-b3f08d31c3d7",
   "metadata": {},
   "outputs": [
    {
     "data": {
      "text/plain": [
       "(array([0, 1, 2, 3, 4, 5, 6, 7, 8, 9]),\n",
       " [Text(0, 0, 'Argentine'),\n",
       "  Text(1, 0, 'African'),\n",
       "  Text(2, 0, 'American'),\n",
       "  Text(3, 0, 'Asian'),\n",
       "  Text(4, 0, 'Andhra'),\n",
       "  Text(5, 0, 'Arabian'),\n",
       "  Text(6, 0, 'Assamese'),\n",
       "  Text(7, 0, 'Australian'),\n",
       "  Text(8, 0, 'Asian Fusion'),\n",
       "  Text(9, 0, 'Afghani')])"
      ]
     },
     "execution_count": 48,
     "metadata": {},
     "output_type": "execute_result"
    },
    {
     "data": {
      "image/png": "[encoded data removed]",
      "text/plain": [
       "<Figure size 1300x600 with 1 Axes>"
      ]
     },
     "metadata": {},
     "output_type": "display_data"
    }
   ],
   "source": [
    "plt.figure(figsize=(13,6))\n",
    "ax = df.groupby('Cuisines')['Votes'].mean().head(10).sort_values(ascending=False).plot(kind='bar',color='blue')\n",
    "for i in ax.containers:\n",
    "    ax.bar_label(i)\n",
    "\n",
    "plt.ylabel('Average Votes')\n",
    "plt.title('Top 10 Cuisines with Highest Average Votes')\n",
    "plt.xticks(rotation=0)"
   ]
  },
  {
   "cell_type": "raw",
   "id": "cdc71e4b-a789-44dc-9ab4-efc07584c5d1",
   "metadata": {},
   "source": [
    "Having 119 unique values in 'Cuisines' makes prediction very challenging and it lead to poor model perfomance,\n",
    "overfitting and insufficient generalization. So Group similiar Cuisines into broader categories."
   ]
  },
  {
   "cell_type": "code",
   "execution_count": 49,
   "id": "136f8113-6c5e-4330-b82c-a7799358709b",
   "metadata": {},
   "outputs": [],
   "source": [
    "# Defining a function called group_cuisine to group similiar cuisines into categories.\n",
    "\n",
    "def group_cuisine(cuisine):\n",
    "    cuisine = cuisine.lower()\n",
    "\n",
    "    indian = ['north indian', 'south indian', 'biryani', 'mithai', 'mughlai', 'kerala', 'kashmiri',\n",
    "              'hyderabadi', 'goan', 'bengali', 'awadhi', 'rajasthani', 'maharashtrian', 'andhra',\n",
    "              'gujarati', 'lucknowi', 'malwani', 'oriya', 'assamese', 'naga', 'bihari']\n",
    "    \n",
    "    asian = ['chinese', 'thai', 'japanese', 'korean', 'vietnamese', 'malaysian', 'indonesian',\n",
    "             'sushi', 'asian', 'asian fusion', 'filipino', 'taiwanese', 'singaporean']\n",
    "    \n",
    "    western = ['american', 'continental', 'italian', 'mexican', 'european', 'french', 'spanish',\n",
    "               'german', 'british', 'portuguese', 'greek', 'new american', 'irish', 'australian']\n",
    "    \n",
    "    cafe_fastfood = ['fast food', 'street food', 'pizza', 'burger', 'sandwich', 'raw meats',\n",
    "                     'charcoal grill', 'cafe', 'coffee and tea', 'tea', 'beverages', 'juices',\n",
    "                     'drinks only', 'restaurant cafe', 'bakery', 'desserts', 'ice cream',\n",
    "                     'patisserie', 'gourmet fast food']\n",
    "\n",
    "    if cuisine in indian:\n",
    "        return 'Indian'\n",
    "    elif cuisine in asian:\n",
    "        return 'Asian'\n",
    "    elif cuisine in western:\n",
    "        return 'Western'\n",
    "    elif cuisine in cafe_fastfood:\n",
    "        return 'Cafe & Fast Food'\n",
    "    else:\n",
    "        return 'Other'\n",
    "\n",
    "    \n",
    "        "
   ]
  },
  {
   "cell_type": "code",
   "execution_count": 50,
   "id": "f17ceb4c-6b2b-4bd9-8141-c70aa4e2119c",
   "metadata": {},
   "outputs": [
    {
     "name": "stdout",
     "output_type": "stream",
     "text": [
      "The counts of cuisines after grouping: Cuisines\n",
      "Indian              3941\n",
      "Cafe & Fast Food    3063\n",
      "Asian               1077\n",
      "Western              920\n",
      "Other                541\n",
      "Name: count, dtype: int64\n"
     ]
    }
   ],
   "source": [
    "# Applying the function to Primary Cuisine\n",
    "\n",
    "df['Cuisines'] = df['Cuisines'].apply(group_cuisine)\n",
    "print('The counts of cuisines after grouping:',df['Cuisines'].value_counts())"
   ]
  },
  {
   "cell_type": "code",
   "execution_count": 51,
   "id": "a77e9bae-9fa4-4080-aef5-e119cb75bdea",
   "metadata": {},
   "outputs": [
    {
     "name": "stdout",
     "output_type": "stream",
     "text": [
      "The shape of the dataset after removel of Other: (9001, 14)\n"
     ]
    }
   ],
   "source": [
    "# Grouped the cusisine into 5 clasess, but here Indian dominates most. While Other is under represented. There is high class\n",
    "# imbalance. So remove 'Other'\n",
    "\n",
    "df = df[df['Cuisines']!='Other']\n",
    "\n",
    "print('The shape of the dataset after removel of Other:', df.shape)"
   ]
  },
  {
   "cell_type": "markdown",
   "id": "32796b0c-d43a-4410-9dcb-2d76a3b43c85",
   "metadata": {},
   "source": [
    "## Handling Categorical Data"
   ]
  },
  {
   "cell_type": "raw",
   "id": "c7509160-f5d9-4de4-939a-41edf700b0ef",
   "metadata": {},
   "source": [
    "Converting Categorical values into numerical values. Label encode assigns a numerical value to each category."
   ]
  },
  {
   "cell_type": "code",
   "execution_count": 53,
   "id": "9631dec2-40bb-4bc4-acf9-93b5d934808c",
   "metadata": {},
   "outputs": [
    {
     "name": "stdout",
     "output_type": "stream",
     "text": [
      "The feature in the dataset are:\n",
      " Index(['Country Code', 'City', 'Locality', 'Longitude', 'Latitude', 'Cuisines',\n",
      "       'Average Cost for two', 'Has Table booking', 'Has Online delivery',\n",
      "       'Is delivering now', 'Price range', 'Aggregate rating', 'Rating text',\n",
      "       'Votes'],\n",
      "      dtype='object')\n"
     ]
    }
   ],
   "source": [
    "print('The feature in the dataset are:\\n',df.columns)"
   ]
  },
  {
   "cell_type": "code",
   "execution_count": 54,
   "id": "bb23ad55-1bc4-48e3-9f55-5d292b575b32",
   "metadata": {},
   "outputs": [
    {
     "name": "stderr",
     "output_type": "stream",
     "text": [
      "C:\\Users\\HP\\AppData\\Local\\Temp\\ipykernel_17116\\3758694344.py:5: SettingWithCopyWarning: \n",
      "A value is trying to be set on a copy of a slice from a DataFrame.\n",
      "Try using .loc[row_indexer,col_indexer] = value instead\n",
      "\n",
      "See the caveats in the documentation: https://pandas.pydata.org/pandas-docs/stable/user_guide/indexing.html#returning-a-view-versus-a-copy\n",
      "  df[col] = le.fit_transform(df[col])\n",
      "C:\\Users\\HP\\AppData\\Local\\Temp\\ipykernel_17116\\3758694344.py:5: SettingWithCopyWarning: \n",
      "A value is trying to be set on a copy of a slice from a DataFrame.\n",
      "Try using .loc[row_indexer,col_indexer] = value instead\n",
      "\n",
      "See the caveats in the documentation: https://pandas.pydata.org/pandas-docs/stable/user_guide/indexing.html#returning-a-view-versus-a-copy\n",
      "  df[col] = le.fit_transform(df[col])\n",
      "C:\\Users\\HP\\AppData\\Local\\Temp\\ipykernel_17116\\3758694344.py:5: SettingWithCopyWarning: \n",
      "A value is trying to be set on a copy of a slice from a DataFrame.\n",
      "Try using .loc[row_indexer,col_indexer] = value instead\n",
      "\n",
      "See the caveats in the documentation: https://pandas.pydata.org/pandas-docs/stable/user_guide/indexing.html#returning-a-view-versus-a-copy\n",
      "  df[col] = le.fit_transform(df[col])\n",
      "C:\\Users\\HP\\AppData\\Local\\Temp\\ipykernel_17116\\3758694344.py:5: SettingWithCopyWarning: \n",
      "A value is trying to be set on a copy of a slice from a DataFrame.\n",
      "Try using .loc[row_indexer,col_indexer] = value instead\n",
      "\n",
      "See the caveats in the documentation: https://pandas.pydata.org/pandas-docs/stable/user_guide/indexing.html#returning-a-view-versus-a-copy\n",
      "  df[col] = le.fit_transform(df[col])\n",
      "C:\\Users\\HP\\AppData\\Local\\Temp\\ipykernel_17116\\3758694344.py:5: SettingWithCopyWarning: \n",
      "A value is trying to be set on a copy of a slice from a DataFrame.\n",
      "Try using .loc[row_indexer,col_indexer] = value instead\n",
      "\n",
      "See the caveats in the documentation: https://pandas.pydata.org/pandas-docs/stable/user_guide/indexing.html#returning-a-view-versus-a-copy\n",
      "  df[col] = le.fit_transform(df[col])\n",
      "C:\\Users\\HP\\AppData\\Local\\Temp\\ipykernel_17116\\3758694344.py:5: SettingWithCopyWarning: \n",
      "A value is trying to be set on a copy of a slice from a DataFrame.\n",
      "Try using .loc[row_indexer,col_indexer] = value instead\n",
      "\n",
      "See the caveats in the documentation: https://pandas.pydata.org/pandas-docs/stable/user_guide/indexing.html#returning-a-view-versus-a-copy\n",
      "  df[col] = le.fit_transform(df[col])\n",
      "C:\\Users\\HP\\AppData\\Local\\Temp\\ipykernel_17116\\3758694344.py:5: SettingWithCopyWarning: \n",
      "A value is trying to be set on a copy of a slice from a DataFrame.\n",
      "Try using .loc[row_indexer,col_indexer] = value instead\n",
      "\n",
      "See the caveats in the documentation: https://pandas.pydata.org/pandas-docs/stable/user_guide/indexing.html#returning-a-view-versus-a-copy\n",
      "  df[col] = le.fit_transform(df[col])\n"
     ]
    }
   ],
   "source": [
    "cat_columns = ['City','Locality','Cuisines','Has Table booking','Has Online delivery','Is delivering now','Rating text']\n",
    "\n",
    "for col in cat_columns:\n",
    "    le = LabelEncoder()\n",
    "    df[col] = le.fit_transform(df[col])"
   ]
  },
  {
   "cell_type": "code",
   "execution_count": 55,
   "id": "c21b41ec-a831-46e4-a4b0-3b96c814b319",
   "metadata": {},
   "outputs": [
    {
     "name": "stdout",
     "output_type": "stream",
     "text": [
      "Dataset after encoding:       Country Code  City  Locality   Longitude   Latitude  Cuisines  \\\n",
      "0              162    68       142  121.027535  14.565443         3   \n",
      "1              162    68       523  121.014101  14.553708         0   \n",
      "3              162    70       758  121.056475  14.585318         0   \n",
      "4              162    70       758  121.057508  14.584450         0   \n",
      "5              162    70       758  121.056314  14.583764         0   \n",
      "...            ...   ...       ...         ...        ...       ...   \n",
      "9544           208   127       457   28.977636  41.022904         1   \n",
      "9545           208   127       457   28.981103  41.025785         1   \n",
      "9548           208   127       490   29.034640  41.055817         3   \n",
      "9549           208   127       490   29.036019  41.057979         1   \n",
      "9550           208   127       588   29.026016  40.984776         1   \n",
      "\n",
      "      Average Cost for two  Has Table booking  Has Online delivery  \\\n",
      "0                     1100                  1                    0   \n",
      "1                     1200                  1                    0   \n",
      "3                     1375                  0                    0   \n",
      "4                     1375                  1                    0   \n",
      "5                     1000                  0                    0   \n",
      "...                    ...                ...                  ...   \n",
      "9544                    40                  0                    0   \n",
      "9545                    90                  0                    0   \n",
      "9548                   170                  0                    0   \n",
      "9549                   120                  0                    0   \n",
      "9550                    55                  0                    0   \n",
      "\n",
      "      Is delivering now  Price range  Aggregate rating  Rating text  Votes  \n",
      "0                     0            3               4.8            1  314.0  \n",
      "1                     0            3               4.5            1  317.5  \n",
      "3                     0            4               4.9            1  317.5  \n",
      "4                     0            4               4.8            1  229.0  \n",
      "5                     0            3               4.4            5  317.5  \n",
      "...                 ...          ...               ...          ...    ...  \n",
      "9544                  0            2               4.7            1  317.5  \n",
      "9545                  0            3               4.3            5  317.5  \n",
      "9548                  0            4               3.7            2  317.5  \n",
      "9549                  0            4               4.0            5  317.5  \n",
      "9550                  0            2               4.0            5  317.5  \n",
      "\n",
      "[9001 rows x 14 columns]\n"
     ]
    }
   ],
   "source": [
    "print('Dataset after encoding:',df)"
   ]
  },
  {
   "cell_type": "markdown",
   "id": "5650e597-140d-43b4-b611-4b3388e116b9",
   "metadata": {},
   "source": [
    "## Feature Selection"
   ]
  },
  {
   "cell_type": "raw",
   "id": "cf436b38-adac-4e71-9147-909d6e2f5486",
   "metadata": {},
   "source": [
    "The process of reducing features to improve accuracy. Using chi sqaure method to calculate chi square between each features and \n",
    "target to select desired number or feature with best chi square scores."
   ]
  },
  {
   "cell_type": "code",
   "execution_count": 57,
   "id": "e329da09-ff69-4d31-bab3-d786545f1114",
   "metadata": {},
   "outputs": [],
   "source": [
    "X = df.drop(columns=['Cuisines','Country Code','Latitude','Longitude'])\n",
    "y = df['Cuisines']"
   ]
  },
  {
   "cell_type": "code",
   "execution_count": 58,
   "id": "9ea00b4f-e67f-483a-a27e-fb930a16abdf",
   "metadata": {},
   "outputs": [],
   "source": [
    "selector = SelectKBest(score_func=chi2,k='all')\n",
    "chi2_scores = selector.fit(X,y)\n",
    "\n",
    "chi2_result = pd.DataFrame({\n",
    "    'Feature':X.columns,\n",
    "    'Chi2_score':chi2_scores.scores_,\n",
    "    'p-Value':chi2_scores.pvalues_}).sort_values(by='Chi2_score',ascending=False)"
   ]
  },
  {
   "cell_type": "code",
   "execution_count": 59,
   "id": "b523a3aa-16e9-4c4c-9426-16f03bb2c3a7",
   "metadata": {},
   "outputs": [
    {
     "data": {
      "text/html": [
       "<div>\n",
       "<style scoped>\n",
       "    .dataframe tbody tr th:only-of-type {\n",
       "        vertical-align: middle;\n",
       "    }\n",
       "\n",
       "    .dataframe tbody tr th {\n",
       "        vertical-align: top;\n",
       "    }\n",
       "\n",
       "    .dataframe thead th {\n",
       "        text-align: right;\n",
       "    }\n",
       "</style>\n",
       "<table border=\"1\" class=\"dataframe\">\n",
       "  <thead>\n",
       "    <tr style=\"text-align: right;\">\n",
       "      <th></th>\n",
       "      <th>Feature</th>\n",
       "      <th>Chi2_score</th>\n",
       "      <th>p-Value</th>\n",
       "    </tr>\n",
       "  </thead>\n",
       "  <tbody>\n",
       "    <tr>\n",
       "      <th>2</th>\n",
       "      <td>Average Cost for two</td>\n",
       "      <td>170783.707663</td>\n",
       "      <td>0.000000e+00</td>\n",
       "    </tr>\n",
       "    <tr>\n",
       "      <th>9</th>\n",
       "      <td>Votes</td>\n",
       "      <td>117587.294043</td>\n",
       "      <td>0.000000e+00</td>\n",
       "    </tr>\n",
       "    <tr>\n",
       "      <th>1</th>\n",
       "      <td>Locality</td>\n",
       "      <td>6431.207620</td>\n",
       "      <td>0.000000e+00</td>\n",
       "    </tr>\n",
       "    <tr>\n",
       "      <th>6</th>\n",
       "      <td>Price range</td>\n",
       "      <td>626.041171</td>\n",
       "      <td>2.279401e-135</td>\n",
       "    </tr>\n",
       "    <tr>\n",
       "      <th>3</th>\n",
       "      <td>Has Table booking</td>\n",
       "      <td>469.471604</td>\n",
       "      <td>1.968807e-101</td>\n",
       "    </tr>\n",
       "    <tr>\n",
       "      <th>0</th>\n",
       "      <td>City</td>\n",
       "      <td>437.375922</td>\n",
       "      <td>1.771668e-94</td>\n",
       "    </tr>\n",
       "    <tr>\n",
       "      <th>8</th>\n",
       "      <td>Rating text</td>\n",
       "      <td>372.839447</td>\n",
       "      <td>1.689678e-80</td>\n",
       "    </tr>\n",
       "    <tr>\n",
       "      <th>7</th>\n",
       "      <td>Aggregate rating</td>\n",
       "      <td>312.606245</td>\n",
       "      <td>1.858822e-67</td>\n",
       "    </tr>\n",
       "    <tr>\n",
       "      <th>4</th>\n",
       "      <td>Has Online delivery</td>\n",
       "      <td>9.172387</td>\n",
       "      <td>2.708457e-02</td>\n",
       "    </tr>\n",
       "    <tr>\n",
       "      <th>5</th>\n",
       "      <td>Is delivering now</td>\n",
       "      <td>5.827561</td>\n",
       "      <td>1.203079e-01</td>\n",
       "    </tr>\n",
       "  </tbody>\n",
       "</table>\n",
       "</div>"
      ],
      "text/plain": [
       "                Feature     Chi2_score        p-Value\n",
       "2  Average Cost for two  170783.707663   0.000000e+00\n",
       "9                 Votes  117587.294043   0.000000e+00\n",
       "1              Locality    6431.207620   0.000000e+00\n",
       "6           Price range     626.041171  2.279401e-135\n",
       "3     Has Table booking     469.471604  1.968807e-101\n",
       "0                  City     437.375922   1.771668e-94\n",
       "8           Rating text     372.839447   1.689678e-80\n",
       "7      Aggregate rating     312.606245   1.858822e-67\n",
       "4   Has Online delivery       9.172387   2.708457e-02\n",
       "5     Is delivering now       5.827561   1.203079e-01"
      ]
     },
     "execution_count": 59,
     "metadata": {},
     "output_type": "execute_result"
    }
   ],
   "source": [
    "chi2_result"
   ]
  },
  {
   "cell_type": "code",
   "execution_count": 60,
   "id": "9d28a929-f96b-4ab6-91c5-027d9e9db3de",
   "metadata": {},
   "outputs": [
    {
     "name": "stdout",
     "output_type": "stream",
     "text": [
      "The insignificant column is : ['Is delivering now']\n"
     ]
    }
   ],
   "source": [
    "# Is delivering now is the columns having p-value greater than 0.05\n",
    "\n",
    "insignificant_columns = chi2_result[chi2_result['p-Value']>0.05]\n",
    "insignificant_columns = chi2_result[chi2_result['p-Value']>0.05]['Feature'].tolist()\n",
    "print('The insignificant column is :',insignificant_columns)"
   ]
  },
  {
   "cell_type": "code",
   "execution_count": 61,
   "id": "751f5b89-87cc-4887-832a-efbd1e0240dc",
   "metadata": {},
   "outputs": [],
   "source": [
    "# Dropping feature Is delivering now\n",
    "X.drop(columns = insignificant_columns,axis=1, inplace=True)"
   ]
  },
  {
   "cell_type": "raw",
   "id": "ce846add-3121-4e31-84c2-489724a8e876",
   "metadata": {},
   "source": [
    "The features are given in the descending order of chi2 and ascending order of p-Value.\n",
    "Chi2 Score: The higher, the more important feature.\n",
    "p-Value : if p<0.05 statistically signficant relationship and\n",
    "             p>0.05 not statistically significant.\n",
    "So Is delivering now is removed."
   ]
  },
  {
   "cell_type": "code",
   "execution_count": 62,
   "id": "77d2cef5-380f-422b-ac88-b8975504eff6",
   "metadata": {},
   "outputs": [
    {
     "name": "stdout",
     "output_type": "stream",
     "text": [
      "The features in the dataset are:\n",
      " Index(['Country Code', 'City', 'Locality', 'Longitude', 'Latitude', 'Cuisines',\n",
      "       'Average Cost for two', 'Has Table booking', 'Has Online delivery',\n",
      "       'Is delivering now', 'Price range', 'Aggregate rating', 'Rating text',\n",
      "       'Votes'],\n",
      "      dtype='object')\n"
     ]
    }
   ],
   "source": [
    "print('The features in the dataset are:\\n', df.columns)\n"
   ]
  },
  {
   "cell_type": "code",
   "execution_count": 63,
   "id": "b23aa71c-d85b-4306-a852-b63715c7e4eb",
   "metadata": {},
   "outputs": [
    {
     "data": {
      "text/plain": [
       "(9001, 9)"
      ]
     },
     "execution_count": 63,
     "metadata": {},
     "output_type": "execute_result"
    }
   ],
   "source": [
    "X.shape"
   ]
  },
  {
   "cell_type": "code",
   "execution_count": 64,
   "id": "ca3a0c13-d9fe-4dba-ad3c-849c4d204d11",
   "metadata": {},
   "outputs": [
    {
     "data": {
      "text/plain": [
       "Cuisines\n",
       "2    0.437840\n",
       "1    0.340296\n",
       "0    0.119653\n",
       "3    0.102211\n",
       "Name: proportion, dtype: float64"
      ]
     },
     "execution_count": 64,
     "metadata": {},
     "output_type": "execute_result"
    }
   ],
   "source": [
    "# Check class balance  \n",
    "df['Cuisines'].value_counts(normalize=True)\n"
   ]
  },
  {
   "cell_type": "markdown",
   "id": "ff5979bf-bb98-4ecd-9469-88e2af098ae1",
   "metadata": {},
   "source": [
    "## Split X and y"
   ]
  },
  {
   "cell_type": "code",
   "execution_count": 66,
   "id": "000b5c2b-69f6-4932-82dc-3f3cf716c406",
   "metadata": {},
   "outputs": [],
   "source": [
    "X=df.drop(columns=['Cuisines','Country Code'],axis=1)"
   ]
  },
  {
   "cell_type": "code",
   "execution_count": 67,
   "id": "10d828bf-2a7d-4103-b303-8ee575c342a5",
   "metadata": {},
   "outputs": [],
   "source": [
    "y = df['Cuisines']"
   ]
  },
  {
   "cell_type": "code",
   "execution_count": 68,
   "id": "b09bb50b-a0fd-4447-8287-6e2f8ed389ef",
   "metadata": {},
   "outputs": [
    {
     "data": {
      "text/html": [
       "<div>\n",
       "<style scoped>\n",
       "    .dataframe tbody tr th:only-of-type {\n",
       "        vertical-align: middle;\n",
       "    }\n",
       "\n",
       "    .dataframe tbody tr th {\n",
       "        vertical-align: top;\n",
       "    }\n",
       "\n",
       "    .dataframe thead th {\n",
       "        text-align: right;\n",
       "    }\n",
       "</style>\n",
       "<table border=\"1\" class=\"dataframe\">\n",
       "  <thead>\n",
       "    <tr style=\"text-align: right;\">\n",
       "      <th></th>\n",
       "      <th>City</th>\n",
       "      <th>Locality</th>\n",
       "      <th>Longitude</th>\n",
       "      <th>Latitude</th>\n",
       "      <th>Average Cost for two</th>\n",
       "      <th>Has Table booking</th>\n",
       "      <th>Has Online delivery</th>\n",
       "      <th>Is delivering now</th>\n",
       "      <th>Price range</th>\n",
       "      <th>Aggregate rating</th>\n",
       "      <th>Rating text</th>\n",
       "      <th>Votes</th>\n",
       "    </tr>\n",
       "  </thead>\n",
       "  <tbody>\n",
       "    <tr>\n",
       "      <th>0</th>\n",
       "      <td>68</td>\n",
       "      <td>142</td>\n",
       "      <td>121.027535</td>\n",
       "      <td>14.565443</td>\n",
       "      <td>1100</td>\n",
       "      <td>1</td>\n",
       "      <td>0</td>\n",
       "      <td>0</td>\n",
       "      <td>3</td>\n",
       "      <td>4.8</td>\n",
       "      <td>1</td>\n",
       "      <td>314.0</td>\n",
       "    </tr>\n",
       "    <tr>\n",
       "      <th>1</th>\n",
       "      <td>68</td>\n",
       "      <td>523</td>\n",
       "      <td>121.014101</td>\n",
       "      <td>14.553708</td>\n",
       "      <td>1200</td>\n",
       "      <td>1</td>\n",
       "      <td>0</td>\n",
       "      <td>0</td>\n",
       "      <td>3</td>\n",
       "      <td>4.5</td>\n",
       "      <td>1</td>\n",
       "      <td>317.5</td>\n",
       "    </tr>\n",
       "    <tr>\n",
       "      <th>3</th>\n",
       "      <td>70</td>\n",
       "      <td>758</td>\n",
       "      <td>121.056475</td>\n",
       "      <td>14.585318</td>\n",
       "      <td>1375</td>\n",
       "      <td>0</td>\n",
       "      <td>0</td>\n",
       "      <td>0</td>\n",
       "      <td>4</td>\n",
       "      <td>4.9</td>\n",
       "      <td>1</td>\n",
       "      <td>317.5</td>\n",
       "    </tr>\n",
       "    <tr>\n",
       "      <th>4</th>\n",
       "      <td>70</td>\n",
       "      <td>758</td>\n",
       "      <td>121.057508</td>\n",
       "      <td>14.584450</td>\n",
       "      <td>1375</td>\n",
       "      <td>1</td>\n",
       "      <td>0</td>\n",
       "      <td>0</td>\n",
       "      <td>4</td>\n",
       "      <td>4.8</td>\n",
       "      <td>1</td>\n",
       "      <td>229.0</td>\n",
       "    </tr>\n",
       "    <tr>\n",
       "      <th>5</th>\n",
       "      <td>70</td>\n",
       "      <td>758</td>\n",
       "      <td>121.056314</td>\n",
       "      <td>14.583764</td>\n",
       "      <td>1000</td>\n",
       "      <td>0</td>\n",
       "      <td>0</td>\n",
       "      <td>0</td>\n",
       "      <td>3</td>\n",
       "      <td>4.4</td>\n",
       "      <td>5</td>\n",
       "      <td>317.5</td>\n",
       "    </tr>\n",
       "    <tr>\n",
       "      <th>...</th>\n",
       "      <td>...</td>\n",
       "      <td>...</td>\n",
       "      <td>...</td>\n",
       "      <td>...</td>\n",
       "      <td>...</td>\n",
       "      <td>...</td>\n",
       "      <td>...</td>\n",
       "      <td>...</td>\n",
       "      <td>...</td>\n",
       "      <td>...</td>\n",
       "      <td>...</td>\n",
       "      <td>...</td>\n",
       "    </tr>\n",
       "    <tr>\n",
       "      <th>9544</th>\n",
       "      <td>127</td>\n",
       "      <td>457</td>\n",
       "      <td>28.977636</td>\n",
       "      <td>41.022904</td>\n",
       "      <td>40</td>\n",
       "      <td>0</td>\n",
       "      <td>0</td>\n",
       "      <td>0</td>\n",
       "      <td>2</td>\n",
       "      <td>4.7</td>\n",
       "      <td>1</td>\n",
       "      <td>317.5</td>\n",
       "    </tr>\n",
       "    <tr>\n",
       "      <th>9545</th>\n",
       "      <td>127</td>\n",
       "      <td>457</td>\n",
       "      <td>28.981103</td>\n",
       "      <td>41.025785</td>\n",
       "      <td>90</td>\n",
       "      <td>0</td>\n",
       "      <td>0</td>\n",
       "      <td>0</td>\n",
       "      <td>3</td>\n",
       "      <td>4.3</td>\n",
       "      <td>5</td>\n",
       "      <td>317.5</td>\n",
       "    </tr>\n",
       "    <tr>\n",
       "      <th>9548</th>\n",
       "      <td>127</td>\n",
       "      <td>490</td>\n",
       "      <td>29.034640</td>\n",
       "      <td>41.055817</td>\n",
       "      <td>170</td>\n",
       "      <td>0</td>\n",
       "      <td>0</td>\n",
       "      <td>0</td>\n",
       "      <td>4</td>\n",
       "      <td>3.7</td>\n",
       "      <td>2</td>\n",
       "      <td>317.5</td>\n",
       "    </tr>\n",
       "    <tr>\n",
       "      <th>9549</th>\n",
       "      <td>127</td>\n",
       "      <td>490</td>\n",
       "      <td>29.036019</td>\n",
       "      <td>41.057979</td>\n",
       "      <td>120</td>\n",
       "      <td>0</td>\n",
       "      <td>0</td>\n",
       "      <td>0</td>\n",
       "      <td>4</td>\n",
       "      <td>4.0</td>\n",
       "      <td>5</td>\n",
       "      <td>317.5</td>\n",
       "    </tr>\n",
       "    <tr>\n",
       "      <th>9550</th>\n",
       "      <td>127</td>\n",
       "      <td>588</td>\n",
       "      <td>29.026016</td>\n",
       "      <td>40.984776</td>\n",
       "      <td>55</td>\n",
       "      <td>0</td>\n",
       "      <td>0</td>\n",
       "      <td>0</td>\n",
       "      <td>2</td>\n",
       "      <td>4.0</td>\n",
       "      <td>5</td>\n",
       "      <td>317.5</td>\n",
       "    </tr>\n",
       "  </tbody>\n",
       "</table>\n",
       "<p>9001 rows × 12 columns</p>\n",
       "</div>"
      ],
      "text/plain": [
       "      City  Locality   Longitude   Latitude  Average Cost for two  \\\n",
       "0       68       142  121.027535  14.565443                  1100   \n",
       "1       68       523  121.014101  14.553708                  1200   \n",
       "3       70       758  121.056475  14.585318                  1375   \n",
       "4       70       758  121.057508  14.584450                  1375   \n",
       "5       70       758  121.056314  14.583764                  1000   \n",
       "...    ...       ...         ...        ...                   ...   \n",
       "9544   127       457   28.977636  41.022904                    40   \n",
       "9545   127       457   28.981103  41.025785                    90   \n",
       "9548   127       490   29.034640  41.055817                   170   \n",
       "9549   127       490   29.036019  41.057979                   120   \n",
       "9550   127       588   29.026016  40.984776                    55   \n",
       "\n",
       "      Has Table booking  Has Online delivery  Is delivering now  Price range  \\\n",
       "0                     1                    0                  0            3   \n",
       "1                     1                    0                  0            3   \n",
       "3                     0                    0                  0            4   \n",
       "4                     1                    0                  0            4   \n",
       "5                     0                    0                  0            3   \n",
       "...                 ...                  ...                ...          ...   \n",
       "9544                  0                    0                  0            2   \n",
       "9545                  0                    0                  0            3   \n",
       "9548                  0                    0                  0            4   \n",
       "9549                  0                    0                  0            4   \n",
       "9550                  0                    0                  0            2   \n",
       "\n",
       "      Aggregate rating  Rating text  Votes  \n",
       "0                  4.8            1  314.0  \n",
       "1                  4.5            1  317.5  \n",
       "3                  4.9            1  317.5  \n",
       "4                  4.8            1  229.0  \n",
       "5                  4.4            5  317.5  \n",
       "...                ...          ...    ...  \n",
       "9544               4.7            1  317.5  \n",
       "9545               4.3            5  317.5  \n",
       "9548               3.7            2  317.5  \n",
       "9549               4.0            5  317.5  \n",
       "9550               4.0            5  317.5  \n",
       "\n",
       "[9001 rows x 12 columns]"
      ]
     },
     "execution_count": 68,
     "metadata": {},
     "output_type": "execute_result"
    }
   ],
   "source": [
    "X"
   ]
  },
  {
   "cell_type": "markdown",
   "id": "091c575f-5232-4bef-b980-a70d9bf8d581",
   "metadata": {},
   "source": [
    " # Train Test Split"
   ]
  },
  {
   "cell_type": "code",
   "execution_count": 70,
   "id": "c25d13d5-5e83-41dc-ae82-0cc5cbd87839",
   "metadata": {},
   "outputs": [],
   "source": [
    "X_train, X_test, y_train, y_test = train_test_split(X,y, test_size= 0.2,stratify=y,random_state=42)"
   ]
  },
  {
   "cell_type": "code",
   "execution_count": 71,
   "id": "85ef7a3a-8266-4c1f-8a44-f7ad52057058",
   "metadata": {},
   "outputs": [
    {
     "name": "stdout",
     "output_type": "stream",
     "text": [
      "The shape of X train is: (7200, 12)\n",
      "The shape of X test is: (1801, 12)\n",
      "The shape of y train is: (7200,)\n",
      "The shape of X train is: (1801,)\n"
     ]
    }
   ],
   "source": [
    "print('The shape of X train is:',X_train.shape)\n",
    "print('The shape of X test is:',X_test.shape)\n",
    "print('The shape of y train is:',y_train.shape)\n",
    "print('The shape of X train is:',y_test.shape)\n"
   ]
  },
  {
   "cell_type": "markdown",
   "id": "4f07c4cd-c56e-4c53-8c16-d1d3a222f306",
   "metadata": {},
   "source": [
    "## Scale Numerical Features."
   ]
  },
  {
   "cell_type": "code",
   "execution_count": 73,
   "id": "b58438eb-ac2c-49ff-9eba-c1d609aed03a",
   "metadata": {},
   "outputs": [],
   "source": [
    "numerical_cols = ['Average Cost for two',\n",
    "                  'Price range','Aggregate rating','Votes','Latitude','Longitude']\n",
    "scaler = MinMaxScaler()\n",
    "\n",
    "X_train[numerical_cols] = scaler.fit_transform(X_train[numerical_cols])\n",
    "X_test[numerical_cols] = scaler.transform(X_test[numerical_cols])\n"
   ]
  },
  {
   "cell_type": "code",
   "execution_count": 74,
   "id": "abd418a4-4beb-4920-b577-638703012545",
   "metadata": {},
   "outputs": [],
   "source": [
    "# Intialize SMOTE\n",
    "# Smote is a powerful technique used in imbalanced classification to balance the dataset by generating synthetic example class.\n",
    "\n",
    "smote = SMOTE(random_state=42)\n",
    "X_train_resampled, y_train_resampled = smote.fit_resample(X_train,y_train)"
   ]
  },
  {
   "cell_type": "markdown",
   "id": "27346473-0af5-4e16-b02b-13bbd2f02cda",
   "metadata": {},
   "source": [
    "# Model Implementation and Evaluation"
   ]
  },
  {
   "cell_type": "markdown",
   "id": "bf12f370-76ac-451f-98e5-b8a828894465",
   "metadata": {},
   "source": [
    "## Logistic Regression"
   ]
  },
  {
   "cell_type": "code",
   "execution_count": 77,
   "id": "6f30332b-15a1-42aa-9661-57c2484da7cb",
   "metadata": {},
   "outputs": [
    {
     "name": "stderr",
     "output_type": "stream",
     "text": [
      "C:\\Users\\HP\\anaconda3\\Lib\\site-packages\\sklearn\\linear_model\\_logistic.py:1247: FutureWarning: 'multi_class' was deprecated in version 1.5 and will be removed in 1.7. From then on, it will always use 'multinomial'. Leave it to its default value to avoid this warning.\n",
      "  warnings.warn(\n"
     ]
    },
    {
     "name": "stdout",
     "output_type": "stream",
     "text": [
      "Accuracy of Logistic Regression is :0.43808995002776235\n",
      "Confusion Matrix of Logistic Regression is :\n",
      "[[ 17  69  77  52]\n",
      " [ 65 331 132  85]\n",
      " [ 89 282 322  96]\n",
      " [  4  22  39 119]]\n",
      "Classification Report of Logistic Regression is :\n",
      "              precision    recall  f1-score   support\n",
      "\n",
      "           0       0.10      0.08      0.09       215\n",
      "           1       0.47      0.54      0.50       613\n",
      "           2       0.56      0.41      0.47       789\n",
      "           3       0.34      0.65      0.44       184\n",
      "\n",
      "    accuracy                           0.44      1801\n",
      "   macro avg       0.37      0.42      0.38      1801\n",
      "weighted avg       0.45      0.44      0.43      1801\n",
      "\n"
     ]
    },
    {
     "name": "stderr",
     "output_type": "stream",
     "text": [
      "C:\\Users\\HP\\anaconda3\\Lib\\site-packages\\sklearn\\linear_model\\_logistic.py:469: ConvergenceWarning: lbfgs failed to converge (status=1):\n",
      "STOP: TOTAL NO. of ITERATIONS REACHED LIMIT.\n",
      "\n",
      "Increase the number of iterations (max_iter) or scale the data as shown in:\n",
      "    https://scikit-learn.org/stable/modules/preprocessing.html\n",
      "Please also refer to the documentation for alternative solver options:\n",
      "    https://scikit-learn.org/stable/modules/linear_model.html#logistic-regression\n",
      "  n_iter_i = _check_optimize_result(\n"
     ]
    }
   ],
   "source": [
    "lr = LogisticRegression(multi_class='multinomial',max_iter=1000,random_state=42)\n",
    "lr.fit(X_train_resampled,y_train_resampled)\n",
    "\n",
    "y_pred_lr = lr.predict(X_test)\n",
    "\n",
    "acc_lr = accuracy_score(y_test,y_pred_lr)\n",
    "conf_lr = confusion_matrix(y_test,y_pred_lr)\n",
    "clf_rp_lr = classification_report(y_test,y_pred_lr)\n",
    "\n",
    "print(f'Accuracy of Logistic Regression is :{acc_lr}')\n",
    "print(f'Confusion Matrix of Logistic Regression is :\\n{conf_lr}')\n",
    "print(f'Classification Report of Logistic Regression is :\\n{clf_rp_lr}')\n"
   ]
  },
  {
   "cell_type": "markdown",
   "id": "f523ba02-a9e9-4fdc-9151-d9f8f8e6f8d1",
   "metadata": {},
   "source": [
    "## Gradient Boosting Classifier"
   ]
  },
  {
   "cell_type": "code",
   "execution_count": 79,
   "id": "cff75ac5-435d-46ee-9844-e233f4f6e612",
   "metadata": {},
   "outputs": [
    {
     "name": "stdout",
     "output_type": "stream",
     "text": [
      "Accuracy score of Gradient Boosting Classifier is :0.5397001665741255\n",
      "Confusion Matrix of Gradient Boosting Classifier is : \n",
      "[[ 20  51  97  47]\n",
      " [ 29 345 189  50]\n",
      " [ 24 187 498  80]\n",
      " [  8  16  51 109]]\n",
      "Classification Report of Gradient Boosting Classifier is: \n",
      "              precision    recall  f1-score   support\n",
      "\n",
      "           0       0.25      0.09      0.14       215\n",
      "           1       0.58      0.56      0.57       613\n",
      "           2       0.60      0.63      0.61       789\n",
      "           3       0.38      0.59      0.46       184\n",
      "\n",
      "    accuracy                           0.54      1801\n",
      "   macro avg       0.45      0.47      0.45      1801\n",
      "weighted avg       0.53      0.54      0.53      1801\n",
      "\n"
     ]
    }
   ],
   "source": [
    "gbc = GradientBoostingClassifier(random_state=42)\n",
    "gbc.fit(X_train_resampled,y_train_resampled)\n",
    "\n",
    "y_pred_gbc = gbc.predict(X_test)\n",
    "\n",
    "acc_gbc = accuracy_score(y_test,y_pred_gbc)\n",
    "conf_gbc = confusion_matrix(y_test,y_pred_gbc)\n",
    "clf_rpt_gbc = classification_report(y_test,y_pred_gbc)\n",
    "\n",
    "print(f'Accuracy score of Gradient Boosting Classifier is :{acc_gbc}')\n",
    "print(f'Confusion Matrix of Gradient Boosting Classifier is : \\n{conf_gbc}')\n",
    "print(f'Classification Report of Gradient Boosting Classifier is: \\n{clf_rpt_gbc}')"
   ]
  },
  {
   "cell_type": "markdown",
   "id": "42ca5310-8d2f-490c-80b0-bc1b70841738",
   "metadata": {},
   "source": [
    "## Decision Tree Classifier"
   ]
  },
  {
   "cell_type": "code",
   "execution_count": 81,
   "id": "e409786c-ef37-4fca-9556-a21b248d7819",
   "metadata": {},
   "outputs": [
    {
     "name": "stdout",
     "output_type": "stream",
     "text": [
      "Accuracy Score of Decision Tree is : 0.441976679622432\n",
      "Confusion Matrix : \n",
      "[[ 39  67  73  36]\n",
      " [ 73 279 220  41]\n",
      " [102 210 399  78]\n",
      " [ 29  29  47  79]]\n",
      "Classification Report : \n",
      "              precision    recall  f1-score   support\n",
      "\n",
      "           0       0.16      0.18      0.17       215\n",
      "           1       0.48      0.46      0.47       613\n",
      "           2       0.54      0.51      0.52       789\n",
      "           3       0.34      0.43      0.38       184\n",
      "\n",
      "    accuracy                           0.44      1801\n",
      "   macro avg       0.38      0.39      0.38      1801\n",
      "weighted avg       0.45      0.44      0.45      1801\n",
      "\n"
     ]
    }
   ],
   "source": [
    "dtc = DecisionTreeClassifier(random_state=42)\n",
    "dtc.fit(X_train_resampled,y_train_resampled)\n",
    "\n",
    "y_pred_dtc = dtc.predict(X_test)\n",
    "\n",
    "acc_dtc = accuracy_score(y_test, y_pred_dtc)\n",
    "conf_dtc = confusion_matrix(y_test, y_pred_dtc)\n",
    "clf_report_dtc = classification_report(y_test, y_pred_dtc)\n",
    "\n",
    "print(f\"Accuracy Score of Decision Tree is : {acc_dtc}\")\n",
    "print(f\"Confusion Matrix : \\n{conf_dtc}\")\n",
    "print(f\"Classification Report : \\n{clf_report_dtc}\")"
   ]
  },
  {
   "cell_type": "markdown",
   "id": "041a8970-b252-4069-927f-19a10d4501cc",
   "metadata": {},
   "source": [
    "## Random Forest Classifier"
   ]
  },
  {
   "cell_type": "code",
   "execution_count": 83,
   "id": "32b9b1ba-4249-4e5f-be91-2199ef49cada",
   "metadata": {},
   "outputs": [
    {
     "name": "stdout",
     "output_type": "stream",
     "text": [
      "Accuracy Score of Random Forest is : 0.5130483064963909\n",
      "Confusion Matrix : \n",
      "[[ 29  63  85  38]\n",
      " [ 38 331 203  41]\n",
      " [ 43 206 472  68]\n",
      " [ 13  19  60  92]]\n",
      "Classification Report : \n",
      "              precision    recall  f1-score   support\n",
      "\n",
      "           0       0.24      0.13      0.17       215\n",
      "           1       0.53      0.54      0.54       613\n",
      "           2       0.58      0.60      0.59       789\n",
      "           3       0.38      0.50      0.43       184\n",
      "\n",
      "    accuracy                           0.51      1801\n",
      "   macro avg       0.43      0.44      0.43      1801\n",
      "weighted avg       0.50      0.51      0.50      1801\n",
      "\n"
     ]
    }
   ],
   "source": [
    "rd_clf = RandomForestClassifier(random_state=42)\n",
    "rd_clf.fit(X_train_resampled,y_train_resampled)\n",
    "\n",
    "y_pred_rd_clf = rd_clf.predict(X_test)\n",
    "\n",
    "acc_rd_clf = accuracy_score(y_test, y_pred_rd_clf)\n",
    "conf_rd_clf = confusion_matrix(y_test, y_pred_rd_clf)\n",
    "clf_reportrd_clf = classification_report(y_test, y_pred_rd_clf)\n",
    "\n",
    "print(f\"Accuracy Score of Random Forest is : {acc_rd_clf}\")\n",
    "print(f\"Confusion Matrix : \\n{conf_rd_clf}\")\n",
    "print(f\"Classification Report : \\n{clf_reportrd_clf}\")"
   ]
  },
  {
   "cell_type": "code",
   "execution_count": 84,
   "id": "8a8cb5c9-fa97-41a3-b75e-4f1eb48abe80",
   "metadata": {},
   "outputs": [
    {
     "data": {
      "text/html": [
       "<div>\n",
       "<style scoped>\n",
       "    .dataframe tbody tr th:only-of-type {\n",
       "        vertical-align: middle;\n",
       "    }\n",
       "\n",
       "    .dataframe tbody tr th {\n",
       "        vertical-align: top;\n",
       "    }\n",
       "\n",
       "    .dataframe thead th {\n",
       "        text-align: right;\n",
       "    }\n",
       "</style>\n",
       "<table border=\"1\" class=\"dataframe\">\n",
       "  <thead>\n",
       "    <tr style=\"text-align: right;\">\n",
       "      <th></th>\n",
       "      <th>Model</th>\n",
       "      <th>Score</th>\n",
       "    </tr>\n",
       "  </thead>\n",
       "  <tbody>\n",
       "    <tr>\n",
       "      <th>1</th>\n",
       "      <td>Gradient Boosting Classifier</td>\n",
       "      <td>0.539700</td>\n",
       "    </tr>\n",
       "    <tr>\n",
       "      <th>3</th>\n",
       "      <td>Random Forest Classifier</td>\n",
       "      <td>0.513048</td>\n",
       "    </tr>\n",
       "    <tr>\n",
       "      <th>2</th>\n",
       "      <td>Decision Tree Classifier</td>\n",
       "      <td>0.441977</td>\n",
       "    </tr>\n",
       "    <tr>\n",
       "      <th>0</th>\n",
       "      <td>Logistic Regression</td>\n",
       "      <td>0.438090</td>\n",
       "    </tr>\n",
       "  </tbody>\n",
       "</table>\n",
       "</div>"
      ],
      "text/plain": [
       "                          Model     Score\n",
       "1  Gradient Boosting Classifier  0.539700\n",
       "3      Random Forest Classifier  0.513048\n",
       "2      Decision Tree Classifier  0.441977\n",
       "0           Logistic Regression  0.438090"
      ]
     },
     "execution_count": 84,
     "metadata": {},
     "output_type": "execute_result"
    }
   ],
   "source": [
    "models = pd.DataFrame({\n",
    "    'Model' : [ 'Logistic Regression', 'Gradient Boosting Classifier', 'Decision Tree Classifier', 'Random Forest Classifier'],\n",
    "    'Score' : [ acc_lr, acc_gbc, acc_dtc, acc_rd_clf]})\n",
    "\n",
    "models.sort_values(by = 'Score', ascending = False)"
   ]
  },
  {
   "cell_type": "markdown",
   "id": "69b8e581-4e9f-4017-9c24-1aacaad55e76",
   "metadata": {},
   "source": [
    "## Idendified Challenges"
   ]
  },
  {
   "cell_type": "raw",
   "id": "8d045a5c-3b7c-46ec-854a-3dc198d4152a",
   "metadata": {},
   "source": [
    "Class imbalance is evident. Indian dominates, while Asian/Western and Other are underrepresented.\n",
    "Imbalance often leads models to favor frequent classes, hurting performances on smaller ones.\n",
    "Gradient Boosting performs best, but still achieves only 53% accuracy.\n",
    "More domain-specific features like dish types may help."
   ]
  },
  {
   "cell_type": "code",
   "execution_count": null,
   "id": "1ec0edc7-245a-420c-8cb1-e8437dfab8af",
   "metadata": {},
   "outputs": [],
   "source": []
  }
 ],
 "metadata": {
  "kernelspec": {
   "display_name": "Python [conda env:base] *",
   "language": "python",
   "name": "conda-base-py"
  },
  "language_info": {
   "codemirror_mode": {
    "name": "ipython",
    "version": 3
   },
   "file_extension": ".py",
   "mimetype": "text/x-python",
   "name": "python",
   "nbconvert_exporter": "python",
   "pygments_lexer": "ipython3",
   "version": "3.12.7"
  }
 },
 "nbformat": 4,
 "nbformat_minor": 5
}
